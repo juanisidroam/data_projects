{
 "cells": [
  {
   "cell_type": "markdown",
   "metadata": {
    "collapsed": true
   },
   "source": [
    "### CAR LISTING DATA ANALYSIS ###\n",
    "\n",
    "Here we will use a dataset from German eBay about cars, we'll try to find some insights with regards to cars as well as practice some data cleaning techniques.\n"
   ]
  },
  {
   "cell_type": "code",
   "execution_count": 1,
   "metadata": {
    "collapsed": true
   },
   "outputs": [],
   "source": [
    "import pandas as pd\n",
    "import numpy as np"
   ]
  },
  {
   "cell_type": "code",
   "execution_count": 2,
   "metadata": {
    "collapsed": false
   },
   "outputs": [],
   "source": [
    "autos = pd.read_csv(\"autos.csv\", encoding=\"Latin-1\")"
   ]
  },
  {
   "cell_type": "code",
   "execution_count": 3,
   "metadata": {
    "collapsed": false
   },
   "outputs": [
    {
     "name": "stdout",
     "output_type": "stream",
     "text": [
      "<class 'pandas.core.frame.DataFrame'>\n",
      "RangeIndex: 50000 entries, 0 to 49999\n",
      "Data columns (total 20 columns):\n",
      "dateCrawled            50000 non-null object\n",
      "name                   50000 non-null object\n",
      "seller                 50000 non-null object\n",
      "offerType              50000 non-null object\n",
      "price                  50000 non-null object\n",
      "abtest                 50000 non-null object\n",
      "vehicleType            44905 non-null object\n",
      "yearOfRegistration     50000 non-null int64\n",
      "gearbox                47320 non-null object\n",
      "powerPS                50000 non-null int64\n",
      "model                  47242 non-null object\n",
      "odometer               50000 non-null object\n",
      "monthOfRegistration    50000 non-null int64\n",
      "fuelType               45518 non-null object\n",
      "brand                  50000 non-null object\n",
      "notRepairedDamage      40171 non-null object\n",
      "dateCreated            50000 non-null object\n",
      "nrOfPictures           50000 non-null int64\n",
      "postalCode             50000 non-null int64\n",
      "lastSeen               50000 non-null object\n",
      "dtypes: int64(5), object(15)\n",
      "memory usage: 7.6+ MB\n"
     ]
    }
   ],
   "source": [
    "autos.info()"
   ]
  },
  {
   "cell_type": "markdown",
   "metadata": {},
   "source": [
    "As we can see, the data set has 20 columns and a consistent number of 50,000 entries in most columns but for a few. We'll try to find what are the issues with those datapoints."
   ]
  },
  {
   "cell_type": "code",
   "execution_count": 4,
   "metadata": {
    "collapsed": false
   },
   "outputs": [
    {
     "data": {
      "text/html": [
       "<div>\n",
       "<style scoped>\n",
       "    .dataframe tbody tr th:only-of-type {\n",
       "        vertical-align: middle;\n",
       "    }\n",
       "\n",
       "    .dataframe tbody tr th {\n",
       "        vertical-align: top;\n",
       "    }\n",
       "\n",
       "    .dataframe thead th {\n",
       "        text-align: right;\n",
       "    }\n",
       "</style>\n",
       "<table border=\"1\" class=\"dataframe\">\n",
       "  <thead>\n",
       "    <tr style=\"text-align: right;\">\n",
       "      <th></th>\n",
       "      <th>dateCrawled</th>\n",
       "      <th>name</th>\n",
       "      <th>seller</th>\n",
       "      <th>offerType</th>\n",
       "      <th>price</th>\n",
       "      <th>abtest</th>\n",
       "      <th>vehicleType</th>\n",
       "      <th>yearOfRegistration</th>\n",
       "      <th>gearbox</th>\n",
       "      <th>powerPS</th>\n",
       "      <th>model</th>\n",
       "      <th>odometer</th>\n",
       "      <th>monthOfRegistration</th>\n",
       "      <th>fuelType</th>\n",
       "      <th>brand</th>\n",
       "      <th>notRepairedDamage</th>\n",
       "      <th>dateCreated</th>\n",
       "      <th>nrOfPictures</th>\n",
       "      <th>postalCode</th>\n",
       "      <th>lastSeen</th>\n",
       "    </tr>\n",
       "  </thead>\n",
       "  <tbody>\n",
       "    <tr>\n",
       "      <th>0</th>\n",
       "      <td>2016-03-26 17:47:46</td>\n",
       "      <td>Peugeot_807_160_NAVTECH_ON_BOARD</td>\n",
       "      <td>privat</td>\n",
       "      <td>Angebot</td>\n",
       "      <td>$5,000</td>\n",
       "      <td>control</td>\n",
       "      <td>bus</td>\n",
       "      <td>2004</td>\n",
       "      <td>manuell</td>\n",
       "      <td>158</td>\n",
       "      <td>andere</td>\n",
       "      <td>150,000km</td>\n",
       "      <td>3</td>\n",
       "      <td>lpg</td>\n",
       "      <td>peugeot</td>\n",
       "      <td>nein</td>\n",
       "      <td>2016-03-26 00:00:00</td>\n",
       "      <td>0</td>\n",
       "      <td>79588</td>\n",
       "      <td>2016-04-06 06:45:54</td>\n",
       "    </tr>\n",
       "    <tr>\n",
       "      <th>1</th>\n",
       "      <td>2016-04-04 13:38:56</td>\n",
       "      <td>BMW_740i_4_4_Liter_HAMANN_UMBAU_Mega_Optik</td>\n",
       "      <td>privat</td>\n",
       "      <td>Angebot</td>\n",
       "      <td>$8,500</td>\n",
       "      <td>control</td>\n",
       "      <td>limousine</td>\n",
       "      <td>1997</td>\n",
       "      <td>automatik</td>\n",
       "      <td>286</td>\n",
       "      <td>7er</td>\n",
       "      <td>150,000km</td>\n",
       "      <td>6</td>\n",
       "      <td>benzin</td>\n",
       "      <td>bmw</td>\n",
       "      <td>nein</td>\n",
       "      <td>2016-04-04 00:00:00</td>\n",
       "      <td>0</td>\n",
       "      <td>71034</td>\n",
       "      <td>2016-04-06 14:45:08</td>\n",
       "    </tr>\n",
       "    <tr>\n",
       "      <th>2</th>\n",
       "      <td>2016-03-26 18:57:24</td>\n",
       "      <td>Volkswagen_Golf_1.6_United</td>\n",
       "      <td>privat</td>\n",
       "      <td>Angebot</td>\n",
       "      <td>$8,990</td>\n",
       "      <td>test</td>\n",
       "      <td>limousine</td>\n",
       "      <td>2009</td>\n",
       "      <td>manuell</td>\n",
       "      <td>102</td>\n",
       "      <td>golf</td>\n",
       "      <td>70,000km</td>\n",
       "      <td>7</td>\n",
       "      <td>benzin</td>\n",
       "      <td>volkswagen</td>\n",
       "      <td>nein</td>\n",
       "      <td>2016-03-26 00:00:00</td>\n",
       "      <td>0</td>\n",
       "      <td>35394</td>\n",
       "      <td>2016-04-06 20:15:37</td>\n",
       "    </tr>\n",
       "    <tr>\n",
       "      <th>3</th>\n",
       "      <td>2016-03-12 16:58:10</td>\n",
       "      <td>Smart_smart_fortwo_coupe_softouch/F1/Klima/Pan...</td>\n",
       "      <td>privat</td>\n",
       "      <td>Angebot</td>\n",
       "      <td>$4,350</td>\n",
       "      <td>control</td>\n",
       "      <td>kleinwagen</td>\n",
       "      <td>2007</td>\n",
       "      <td>automatik</td>\n",
       "      <td>71</td>\n",
       "      <td>fortwo</td>\n",
       "      <td>70,000km</td>\n",
       "      <td>6</td>\n",
       "      <td>benzin</td>\n",
       "      <td>smart</td>\n",
       "      <td>nein</td>\n",
       "      <td>2016-03-12 00:00:00</td>\n",
       "      <td>0</td>\n",
       "      <td>33729</td>\n",
       "      <td>2016-03-15 03:16:28</td>\n",
       "    </tr>\n",
       "    <tr>\n",
       "      <th>4</th>\n",
       "      <td>2016-04-01 14:38:50</td>\n",
       "      <td>Ford_Focus_1_6_Benzin_TÜV_neu_ist_sehr_gepfleg...</td>\n",
       "      <td>privat</td>\n",
       "      <td>Angebot</td>\n",
       "      <td>$1,350</td>\n",
       "      <td>test</td>\n",
       "      <td>kombi</td>\n",
       "      <td>2003</td>\n",
       "      <td>manuell</td>\n",
       "      <td>0</td>\n",
       "      <td>focus</td>\n",
       "      <td>150,000km</td>\n",
       "      <td>7</td>\n",
       "      <td>benzin</td>\n",
       "      <td>ford</td>\n",
       "      <td>nein</td>\n",
       "      <td>2016-04-01 00:00:00</td>\n",
       "      <td>0</td>\n",
       "      <td>39218</td>\n",
       "      <td>2016-04-01 14:38:50</td>\n",
       "    </tr>\n",
       "  </tbody>\n",
       "</table>\n",
       "</div>"
      ],
      "text/plain": [
       "           dateCrawled                                               name  \\\n",
       "0  2016-03-26 17:47:46                   Peugeot_807_160_NAVTECH_ON_BOARD   \n",
       "1  2016-04-04 13:38:56         BMW_740i_4_4_Liter_HAMANN_UMBAU_Mega_Optik   \n",
       "2  2016-03-26 18:57:24                         Volkswagen_Golf_1.6_United   \n",
       "3  2016-03-12 16:58:10  Smart_smart_fortwo_coupe_softouch/F1/Klima/Pan...   \n",
       "4  2016-04-01 14:38:50  Ford_Focus_1_6_Benzin_TÜV_neu_ist_sehr_gepfleg...   \n",
       "\n",
       "   seller offerType   price   abtest vehicleType  yearOfRegistration  \\\n",
       "0  privat   Angebot  $5,000  control         bus                2004   \n",
       "1  privat   Angebot  $8,500  control   limousine                1997   \n",
       "2  privat   Angebot  $8,990     test   limousine                2009   \n",
       "3  privat   Angebot  $4,350  control  kleinwagen                2007   \n",
       "4  privat   Angebot  $1,350     test       kombi                2003   \n",
       "\n",
       "     gearbox  powerPS   model   odometer  monthOfRegistration fuelType  \\\n",
       "0    manuell      158  andere  150,000km                    3      lpg   \n",
       "1  automatik      286     7er  150,000km                    6   benzin   \n",
       "2    manuell      102    golf   70,000km                    7   benzin   \n",
       "3  automatik       71  fortwo   70,000km                    6   benzin   \n",
       "4    manuell        0   focus  150,000km                    7   benzin   \n",
       "\n",
       "        brand notRepairedDamage          dateCreated  nrOfPictures  \\\n",
       "0     peugeot              nein  2016-03-26 00:00:00             0   \n",
       "1         bmw              nein  2016-04-04 00:00:00             0   \n",
       "2  volkswagen              nein  2016-03-26 00:00:00             0   \n",
       "3       smart              nein  2016-03-12 00:00:00             0   \n",
       "4        ford              nein  2016-04-01 00:00:00             0   \n",
       "\n",
       "   postalCode             lastSeen  \n",
       "0       79588  2016-04-06 06:45:54  \n",
       "1       71034  2016-04-06 14:45:08  \n",
       "2       35394  2016-04-06 20:15:37  \n",
       "3       33729  2016-03-15 03:16:28  \n",
       "4       39218  2016-04-01 14:38:50  "
      ]
     },
     "execution_count": 4,
     "metadata": {},
     "output_type": "execute_result"
    }
   ],
   "source": [
    "autos.head()"
   ]
  },
  {
   "cell_type": "code",
   "execution_count": 5,
   "metadata": {
    "collapsed": false
   },
   "outputs": [],
   "source": [
    "col_dict = {}\n",
    "a = 0\n",
    "for c in autos.columns:\n",
    "    col_dict[a] = c\n",
    "    a += 1\n",
    "\n",
    "copy_col = []\n",
    "for c in autos.columns:\n",
    "    copy_col.append(c)\n"
   ]
  },
  {
   "cell_type": "code",
   "execution_count": 6,
   "metadata": {
    "collapsed": false
   },
   "outputs": [
    {
     "name": "stdout",
     "output_type": "stream",
     "text": [
      "{0: 'dateCrawled', 1: 'name', 2: 'seller', 3: 'offerType', 4: 'price', 5: 'abtest', 6: 'vehicleType', 7: 'yearOfRegistration', 8: 'gearbox', 9: 'powerPS', 10: 'model', 11: 'odometer', 12: 'monthOfRegistration', 13: 'fuelType', 14: 'brand', 15: 'notRepairedDamage', 16: 'dateCreated', 17: 'nrOfPictures', 18: 'postalCode', 19: 'lastSeen'}\n"
     ]
    }
   ],
   "source": [
    "print(col_dict)"
   ]
  },
  {
   "cell_type": "code",
   "execution_count": 7,
   "metadata": {
    "collapsed": false
   },
   "outputs": [],
   "source": [
    "copy_col[7] = copy_col[7].replace(\"yearOfRegistration\", \"reg_year\")\n",
    "copy_col[12] = copy_col[12].replace(\"monthOfRegistration\", \"reg_month\")\n",
    "copy_col[15] = copy_col[15].replace(\"notRepairedDamage\", \"unrepaired\")\n",
    "copy_col[16] = copy_col[16].replace(\"dateCreated\", \"ad_created\")\n",
    "copy_col[0] = copy_col[0].replace(\"dateCrawled\", \"date_crawled\")\n",
    "copy_col[3] = copy_col[3].replace(\"offerType\", \"offer_type\")\n",
    "copy_col[5] = copy_col[5].replace(\"abtest\", \"ab_test\")\n",
    "copy_col[6] = copy_col[6].replace(\"vehicleType\", \"vehicle_type\")\n",
    "copy_col[9] = copy_col[9].replace(\"powerPS\", \"power_ps\")\n",
    "copy_col[13] = copy_col[13].replace(\"fuelType\", \"fuel_type\")\n",
    "copy_col[17] = copy_col[17].replace(\"nrOfPictures\", \"amount_pics\")\n",
    "copy_col[18] = copy_col[18].replace(\"postalCode\", \"postal_code\")\n",
    "copy_col[19] = copy_col[19].replace(\"lastSeen\", \"last_seen\")\n",
    "\n"
   ]
  },
  {
   "cell_type": "code",
   "execution_count": 8,
   "metadata": {
    "collapsed": false
   },
   "outputs": [],
   "source": [
    "autos.columns = copy_col"
   ]
  },
  {
   "cell_type": "code",
   "execution_count": 9,
   "metadata": {
    "collapsed": false
   },
   "outputs": [
    {
     "data": {
      "text/html": [
       "<div>\n",
       "<style scoped>\n",
       "    .dataframe tbody tr th:only-of-type {\n",
       "        vertical-align: middle;\n",
       "    }\n",
       "\n",
       "    .dataframe tbody tr th {\n",
       "        vertical-align: top;\n",
       "    }\n",
       "\n",
       "    .dataframe thead th {\n",
       "        text-align: right;\n",
       "    }\n",
       "</style>\n",
       "<table border=\"1\" class=\"dataframe\">\n",
       "  <thead>\n",
       "    <tr style=\"text-align: right;\">\n",
       "      <th></th>\n",
       "      <th>date_crawled</th>\n",
       "      <th>name</th>\n",
       "      <th>seller</th>\n",
       "      <th>offer_type</th>\n",
       "      <th>price</th>\n",
       "      <th>ab_test</th>\n",
       "      <th>vehicle_type</th>\n",
       "      <th>reg_year</th>\n",
       "      <th>gearbox</th>\n",
       "      <th>power_ps</th>\n",
       "      <th>model</th>\n",
       "      <th>odometer</th>\n",
       "      <th>reg_month</th>\n",
       "      <th>fuel_type</th>\n",
       "      <th>brand</th>\n",
       "      <th>unrepaired</th>\n",
       "      <th>ad_created</th>\n",
       "      <th>amount_pics</th>\n",
       "      <th>postal_code</th>\n",
       "      <th>last_seen</th>\n",
       "    </tr>\n",
       "  </thead>\n",
       "  <tbody>\n",
       "    <tr>\n",
       "      <th>0</th>\n",
       "      <td>2016-03-26 17:47:46</td>\n",
       "      <td>Peugeot_807_160_NAVTECH_ON_BOARD</td>\n",
       "      <td>privat</td>\n",
       "      <td>Angebot</td>\n",
       "      <td>$5,000</td>\n",
       "      <td>control</td>\n",
       "      <td>bus</td>\n",
       "      <td>2004</td>\n",
       "      <td>manuell</td>\n",
       "      <td>158</td>\n",
       "      <td>andere</td>\n",
       "      <td>150,000km</td>\n",
       "      <td>3</td>\n",
       "      <td>lpg</td>\n",
       "      <td>peugeot</td>\n",
       "      <td>nein</td>\n",
       "      <td>2016-03-26 00:00:00</td>\n",
       "      <td>0</td>\n",
       "      <td>79588</td>\n",
       "      <td>2016-04-06 06:45:54</td>\n",
       "    </tr>\n",
       "    <tr>\n",
       "      <th>1</th>\n",
       "      <td>2016-04-04 13:38:56</td>\n",
       "      <td>BMW_740i_4_4_Liter_HAMANN_UMBAU_Mega_Optik</td>\n",
       "      <td>privat</td>\n",
       "      <td>Angebot</td>\n",
       "      <td>$8,500</td>\n",
       "      <td>control</td>\n",
       "      <td>limousine</td>\n",
       "      <td>1997</td>\n",
       "      <td>automatik</td>\n",
       "      <td>286</td>\n",
       "      <td>7er</td>\n",
       "      <td>150,000km</td>\n",
       "      <td>6</td>\n",
       "      <td>benzin</td>\n",
       "      <td>bmw</td>\n",
       "      <td>nein</td>\n",
       "      <td>2016-04-04 00:00:00</td>\n",
       "      <td>0</td>\n",
       "      <td>71034</td>\n",
       "      <td>2016-04-06 14:45:08</td>\n",
       "    </tr>\n",
       "    <tr>\n",
       "      <th>2</th>\n",
       "      <td>2016-03-26 18:57:24</td>\n",
       "      <td>Volkswagen_Golf_1.6_United</td>\n",
       "      <td>privat</td>\n",
       "      <td>Angebot</td>\n",
       "      <td>$8,990</td>\n",
       "      <td>test</td>\n",
       "      <td>limousine</td>\n",
       "      <td>2009</td>\n",
       "      <td>manuell</td>\n",
       "      <td>102</td>\n",
       "      <td>golf</td>\n",
       "      <td>70,000km</td>\n",
       "      <td>7</td>\n",
       "      <td>benzin</td>\n",
       "      <td>volkswagen</td>\n",
       "      <td>nein</td>\n",
       "      <td>2016-03-26 00:00:00</td>\n",
       "      <td>0</td>\n",
       "      <td>35394</td>\n",
       "      <td>2016-04-06 20:15:37</td>\n",
       "    </tr>\n",
       "    <tr>\n",
       "      <th>3</th>\n",
       "      <td>2016-03-12 16:58:10</td>\n",
       "      <td>Smart_smart_fortwo_coupe_softouch/F1/Klima/Pan...</td>\n",
       "      <td>privat</td>\n",
       "      <td>Angebot</td>\n",
       "      <td>$4,350</td>\n",
       "      <td>control</td>\n",
       "      <td>kleinwagen</td>\n",
       "      <td>2007</td>\n",
       "      <td>automatik</td>\n",
       "      <td>71</td>\n",
       "      <td>fortwo</td>\n",
       "      <td>70,000km</td>\n",
       "      <td>6</td>\n",
       "      <td>benzin</td>\n",
       "      <td>smart</td>\n",
       "      <td>nein</td>\n",
       "      <td>2016-03-12 00:00:00</td>\n",
       "      <td>0</td>\n",
       "      <td>33729</td>\n",
       "      <td>2016-03-15 03:16:28</td>\n",
       "    </tr>\n",
       "    <tr>\n",
       "      <th>4</th>\n",
       "      <td>2016-04-01 14:38:50</td>\n",
       "      <td>Ford_Focus_1_6_Benzin_TÜV_neu_ist_sehr_gepfleg...</td>\n",
       "      <td>privat</td>\n",
       "      <td>Angebot</td>\n",
       "      <td>$1,350</td>\n",
       "      <td>test</td>\n",
       "      <td>kombi</td>\n",
       "      <td>2003</td>\n",
       "      <td>manuell</td>\n",
       "      <td>0</td>\n",
       "      <td>focus</td>\n",
       "      <td>150,000km</td>\n",
       "      <td>7</td>\n",
       "      <td>benzin</td>\n",
       "      <td>ford</td>\n",
       "      <td>nein</td>\n",
       "      <td>2016-04-01 00:00:00</td>\n",
       "      <td>0</td>\n",
       "      <td>39218</td>\n",
       "      <td>2016-04-01 14:38:50</td>\n",
       "    </tr>\n",
       "  </tbody>\n",
       "</table>\n",
       "</div>"
      ],
      "text/plain": [
       "          date_crawled                                               name  \\\n",
       "0  2016-03-26 17:47:46                   Peugeot_807_160_NAVTECH_ON_BOARD   \n",
       "1  2016-04-04 13:38:56         BMW_740i_4_4_Liter_HAMANN_UMBAU_Mega_Optik   \n",
       "2  2016-03-26 18:57:24                         Volkswagen_Golf_1.6_United   \n",
       "3  2016-03-12 16:58:10  Smart_smart_fortwo_coupe_softouch/F1/Klima/Pan...   \n",
       "4  2016-04-01 14:38:50  Ford_Focus_1_6_Benzin_TÜV_neu_ist_sehr_gepfleg...   \n",
       "\n",
       "   seller offer_type   price  ab_test vehicle_type  reg_year    gearbox  \\\n",
       "0  privat    Angebot  $5,000  control          bus      2004    manuell   \n",
       "1  privat    Angebot  $8,500  control    limousine      1997  automatik   \n",
       "2  privat    Angebot  $8,990     test    limousine      2009    manuell   \n",
       "3  privat    Angebot  $4,350  control   kleinwagen      2007  automatik   \n",
       "4  privat    Angebot  $1,350     test        kombi      2003    manuell   \n",
       "\n",
       "   power_ps   model   odometer  reg_month fuel_type       brand unrepaired  \\\n",
       "0       158  andere  150,000km          3       lpg     peugeot       nein   \n",
       "1       286     7er  150,000km          6    benzin         bmw       nein   \n",
       "2       102    golf   70,000km          7    benzin  volkswagen       nein   \n",
       "3        71  fortwo   70,000km          6    benzin       smart       nein   \n",
       "4         0   focus  150,000km          7    benzin        ford       nein   \n",
       "\n",
       "            ad_created  amount_pics  postal_code            last_seen  \n",
       "0  2016-03-26 00:00:00            0        79588  2016-04-06 06:45:54  \n",
       "1  2016-04-04 00:00:00            0        71034  2016-04-06 14:45:08  \n",
       "2  2016-03-26 00:00:00            0        35394  2016-04-06 20:15:37  \n",
       "3  2016-03-12 00:00:00            0        33729  2016-03-15 03:16:28  \n",
       "4  2016-04-01 00:00:00            0        39218  2016-04-01 14:38:50  "
      ]
     },
     "execution_count": 9,
     "metadata": {},
     "output_type": "execute_result"
    }
   ],
   "source": [
    "autos.head()"
   ]
  },
  {
   "cell_type": "markdown",
   "metadata": {},
   "source": [
    "We've changed the column names from *camelcase* to *snakecase* since it better aligns with Python nomenclature usage."
   ]
  },
  {
   "cell_type": "code",
   "execution_count": 10,
   "metadata": {
    "collapsed": false
   },
   "outputs": [
    {
     "data": {
      "text/html": [
       "<div>\n",
       "<style scoped>\n",
       "    .dataframe tbody tr th:only-of-type {\n",
       "        vertical-align: middle;\n",
       "    }\n",
       "\n",
       "    .dataframe tbody tr th {\n",
       "        vertical-align: top;\n",
       "    }\n",
       "\n",
       "    .dataframe thead th {\n",
       "        text-align: right;\n",
       "    }\n",
       "</style>\n",
       "<table border=\"1\" class=\"dataframe\">\n",
       "  <thead>\n",
       "    <tr style=\"text-align: right;\">\n",
       "      <th></th>\n",
       "      <th>reg_year</th>\n",
       "      <th>power_ps</th>\n",
       "      <th>reg_month</th>\n",
       "      <th>amount_pics</th>\n",
       "      <th>postal_code</th>\n",
       "    </tr>\n",
       "  </thead>\n",
       "  <tbody>\n",
       "    <tr>\n",
       "      <th>count</th>\n",
       "      <td>50000.000000</td>\n",
       "      <td>50000.000000</td>\n",
       "      <td>50000.000000</td>\n",
       "      <td>50000.0</td>\n",
       "      <td>50000.000000</td>\n",
       "    </tr>\n",
       "    <tr>\n",
       "      <th>mean</th>\n",
       "      <td>2005.073280</td>\n",
       "      <td>116.355920</td>\n",
       "      <td>5.723360</td>\n",
       "      <td>0.0</td>\n",
       "      <td>50813.627300</td>\n",
       "    </tr>\n",
       "    <tr>\n",
       "      <th>std</th>\n",
       "      <td>105.712813</td>\n",
       "      <td>209.216627</td>\n",
       "      <td>3.711984</td>\n",
       "      <td>0.0</td>\n",
       "      <td>25779.747957</td>\n",
       "    </tr>\n",
       "    <tr>\n",
       "      <th>min</th>\n",
       "      <td>1000.000000</td>\n",
       "      <td>0.000000</td>\n",
       "      <td>0.000000</td>\n",
       "      <td>0.0</td>\n",
       "      <td>1067.000000</td>\n",
       "    </tr>\n",
       "    <tr>\n",
       "      <th>25%</th>\n",
       "      <td>1999.000000</td>\n",
       "      <td>70.000000</td>\n",
       "      <td>3.000000</td>\n",
       "      <td>0.0</td>\n",
       "      <td>30451.000000</td>\n",
       "    </tr>\n",
       "    <tr>\n",
       "      <th>50%</th>\n",
       "      <td>2003.000000</td>\n",
       "      <td>105.000000</td>\n",
       "      <td>6.000000</td>\n",
       "      <td>0.0</td>\n",
       "      <td>49577.000000</td>\n",
       "    </tr>\n",
       "    <tr>\n",
       "      <th>75%</th>\n",
       "      <td>2008.000000</td>\n",
       "      <td>150.000000</td>\n",
       "      <td>9.000000</td>\n",
       "      <td>0.0</td>\n",
       "      <td>71540.000000</td>\n",
       "    </tr>\n",
       "    <tr>\n",
       "      <th>max</th>\n",
       "      <td>9999.000000</td>\n",
       "      <td>17700.000000</td>\n",
       "      <td>12.000000</td>\n",
       "      <td>0.0</td>\n",
       "      <td>99998.000000</td>\n",
       "    </tr>\n",
       "  </tbody>\n",
       "</table>\n",
       "</div>"
      ],
      "text/plain": [
       "           reg_year      power_ps     reg_month  amount_pics   postal_code\n",
       "count  50000.000000  50000.000000  50000.000000      50000.0  50000.000000\n",
       "mean    2005.073280    116.355920      5.723360          0.0  50813.627300\n",
       "std      105.712813    209.216627      3.711984          0.0  25779.747957\n",
       "min     1000.000000      0.000000      0.000000          0.0   1067.000000\n",
       "25%     1999.000000     70.000000      3.000000          0.0  30451.000000\n",
       "50%     2003.000000    105.000000      6.000000          0.0  49577.000000\n",
       "75%     2008.000000    150.000000      9.000000          0.0  71540.000000\n",
       "max     9999.000000  17700.000000     12.000000          0.0  99998.000000"
      ]
     },
     "execution_count": 10,
     "metadata": {},
     "output_type": "execute_result"
    }
   ],
   "source": [
    "autos.describe()"
   ]
  },
  {
   "cell_type": "markdown",
   "metadata": {},
   "source": [
    "After using `describe()` on the autos dataframe, we can see some columns have a reallw low count of values, which mean they're not very useful for our analysis. We find those by comparing the `freq` value with the `count` value. This is because even if the `unique` value is low, the distribution may still be relevant if they're similarly sized, but when a single element covers more than 90% of the values, said column can be declared irrelevant.\n",
    "\n",
    "So far, said columns appear to be: **seller and offer_type.**\n",
    "\n",
    "Columns that need more investigation are: **ab_test, gearbox, odometer, fuel_type and unrepaired.**\n",
    "\n",
    "We can also see **odometer and price** are stored as text, because the math operations give us NaN values, which it wouldn't happen if they were stored as numeric data.\n",
    "\n",
    "**reg_year, reg_month and postal_code** are stored as numeric data, but they need to be written as text.\n",
    "\n"
   ]
  },
  {
   "cell_type": "code",
   "execution_count": 11,
   "metadata": {
    "collapsed": false
   },
   "outputs": [
    {
     "data": {
      "text/plain": [
       "0    150,000km\n",
       "1    150,000km\n",
       "2     70,000km\n",
       "3     70,000km\n",
       "4    150,000km\n",
       "Name: odometer, dtype: object"
      ]
     },
     "execution_count": 11,
     "metadata": {},
     "output_type": "execute_result"
    }
   ],
   "source": [
    "autos[\"odometer\"].head()"
   ]
  },
  {
   "cell_type": "code",
   "execution_count": 12,
   "metadata": {
    "collapsed": false
   },
   "outputs": [],
   "source": [
    "# We've devised a cleaning function that works for any set of strings, and allows us to\n",
    "# determine what we want to remove in a dynamic manner, by passing a list of elements as a parameter.\n",
    "def clean_strings(string, garbage):\n",
    "    for g in garbage:\n",
    "        string = string.replace(g, \"\")\n",
    "    return string\n",
    "\n",
    "new_prices = []\n",
    "for c in autos[\"price\"]:\n",
    "    temp = clean_strings(c, [\"$\", \",\"])\n",
    "    new_prices.append(temp)\n",
    "    \n",
    "autos[\"price\"] = new_prices\n",
    "autos[\"price\"] = autos[\"price\"].astype(int)\n",
    "\n",
    "new_odo = []\n",
    "for c in autos[\"odometer\"]:\n",
    "    temp = clean_strings(c, [\"km\", \",\"])\n",
    "    new_odo.append(temp)\n",
    "\n",
    "autos[\"odometer\"] = new_odo\n",
    "autos[\"odometer\"] = autos[\"odometer\"].astype(int)"
   ]
  },
  {
   "cell_type": "code",
   "execution_count": 13,
   "metadata": {
    "collapsed": false
   },
   "outputs": [],
   "source": [
    "autos.rename(columns={'odometer': 'odometer_km'}, inplace=True)\n"
   ]
  },
  {
   "cell_type": "code",
   "execution_count": 14,
   "metadata": {
    "collapsed": false
   },
   "outputs": [
    {
     "data": {
      "text/plain": [
       "(13,)"
      ]
     },
     "execution_count": 14,
     "metadata": {},
     "output_type": "execute_result"
    }
   ],
   "source": [
    "autos[\"odometer_km\"].unique().shape"
   ]
  },
  {
   "cell_type": "code",
   "execution_count": 15,
   "metadata": {
    "collapsed": false
   },
   "outputs": [
    {
     "data": {
      "text/plain": [
       "count     50000.000000\n",
       "mean     125732.700000\n",
       "std       40042.211706\n",
       "min        5000.000000\n",
       "25%      125000.000000\n",
       "50%      150000.000000\n",
       "75%      150000.000000\n",
       "max      150000.000000\n",
       "Name: odometer_km, dtype: float64"
      ]
     },
     "execution_count": 15,
     "metadata": {},
     "output_type": "execute_result"
    }
   ],
   "source": [
    "autos[\"odometer_km\"].describe()"
   ]
  },
  {
   "cell_type": "code",
   "execution_count": 16,
   "metadata": {
    "collapsed": false
   },
   "outputs": [
    {
     "data": {
      "text/plain": [
       "150000    32424\n",
       "125000     5170\n",
       "100000     2169\n",
       "90000      1757\n",
       "80000      1436\n",
       "70000      1230\n",
       "60000      1164\n",
       "50000      1027\n",
       "40000       819\n",
       "30000       789\n",
       "20000       784\n",
       "10000       264\n",
       "5000        967\n",
       "Name: odometer_km, dtype: int64"
      ]
     },
     "execution_count": 16,
     "metadata": {},
     "output_type": "execute_result"
    }
   ],
   "source": [
    "autos[\"odometer_km\"].value_counts().sort_index(ascending=False)"
   ]
  },
  {
   "cell_type": "code",
   "execution_count": 17,
   "metadata": {
    "collapsed": false,
    "scrolled": true
   },
   "outputs": [
    {
     "data": {
      "text/plain": [
       "(113750.0, 150000.0]    37594\n",
       "(77500.0, 113750.0]      5362\n",
       "(41250.0, 77500.0]       3421\n",
       "(4854.999, 41250.0]      3623\n",
       "Name: odometer_km, dtype: int64"
      ]
     },
     "execution_count": 17,
     "metadata": {},
     "output_type": "execute_result"
    }
   ],
   "source": [
    "autos[\"odometer_km\"].value_counts(bins=4).sort_index(ascending=False)"
   ]
  },
  {
   "cell_type": "markdown",
   "metadata": {},
   "source": [
    "Using bins to determine where most of the values reside, we find that **85% of values are higher than 77,000**, we'll drop anything that's below 50,000 kilometers, as it would skew our results too much."
   ]
  },
  {
   "cell_type": "code",
   "execution_count": 18,
   "metadata": {
    "collapsed": false
   },
   "outputs": [],
   "source": [
    "autos = autos[autos[\"odometer_km\"].between(50000,150000)]"
   ]
  },
  {
   "cell_type": "code",
   "execution_count": 19,
   "metadata": {
    "collapsed": false
   },
   "outputs": [
    {
     "data": {
      "text/plain": [
       "count    4.637700e+04\n",
       "mean     8.824777e+03\n",
       "std      4.828025e+05\n",
       "min      0.000000e+00\n",
       "25%      1.100000e+03\n",
       "50%      2.750000e+03\n",
       "75%      6.500000e+03\n",
       "max      1.000000e+08\n",
       "Name: price, dtype: float64"
      ]
     },
     "execution_count": 19,
     "metadata": {},
     "output_type": "execute_result"
    }
   ],
   "source": [
    "autos[\"price\"].describe()"
   ]
  },
  {
   "cell_type": "code",
   "execution_count": 20,
   "metadata": {
    "collapsed": false
   },
   "outputs": [
    {
     "data": {
      "text/plain": [
       "numpy.int64"
      ]
     },
     "execution_count": 20,
     "metadata": {},
     "output_type": "execute_result"
    }
   ],
   "source": [
    "type(autos[\"price\"][0])"
   ]
  },
  {
   "cell_type": "code",
   "execution_count": 21,
   "metadata": {
    "collapsed": false
   },
   "outputs": [
    {
     "data": {
      "text/plain": [
       "(2092,)"
      ]
     },
     "execution_count": 21,
     "metadata": {},
     "output_type": "execute_result"
    }
   ],
   "source": [
    "autos[\"price\"].unique().shape"
   ]
  },
  {
   "cell_type": "code",
   "execution_count": 22,
   "metadata": {
    "collapsed": false
   },
   "outputs": [
    {
     "data": {
      "text/plain": [
       "99999999       1\n",
       "12345678       3\n",
       "11111111       2\n",
       "10000000       1\n",
       "1300000        1\n",
       "1234566        1\n",
       "999999         2\n",
       "999990         1\n",
       "299000         1\n",
       "197000         1\n",
       "190000         1\n",
       "180000         1\n",
       "145000         1\n",
       "130000         1\n",
       "129000         1\n",
       "128000         1\n",
       "120000         1\n",
       "119500         1\n",
       "105000         2\n",
       "99900          2\n",
       "99000          1\n",
       "98500          1\n",
       "94999          1\n",
       "93911          1\n",
       "86500          1\n",
       "80000          2\n",
       "79999          1\n",
       "79933          1\n",
       "78911          1\n",
       "75997          1\n",
       "            ... \n",
       "110            2\n",
       "100          118\n",
       "99            18\n",
       "90             5\n",
       "89             1\n",
       "80            12\n",
       "79             1\n",
       "75             5\n",
       "70             4\n",
       "66             1\n",
       "65             3\n",
       "60             6\n",
       "55             2\n",
       "50            35\n",
       "49             2\n",
       "47             1\n",
       "45             2\n",
       "40             3\n",
       "30             2\n",
       "25             1\n",
       "20             1\n",
       "14             1\n",
       "13             1\n",
       "12             1\n",
       "11             2\n",
       "10             4\n",
       "5              2\n",
       "3              1\n",
       "1            131\n",
       "0           1246\n",
       "Name: price, Length: 2092, dtype: int64"
      ]
     },
     "execution_count": 22,
     "metadata": {},
     "output_type": "execute_result"
    }
   ],
   "source": [
    "autos[\"price\"].value_counts().sort_index(ascending=False)"
   ]
  },
  {
   "cell_type": "markdown",
   "metadata": {},
   "source": [
    "This column has a wild variety of values, but more importantly, it has several outliers, some of which are clearly wrong data. In order to attain better results, we're gonna limit the values to those between 1,000 and 200,000 dollars and see what we can gather from there."
   ]
  },
  {
   "cell_type": "code",
   "execution_count": 23,
   "metadata": {
    "collapsed": false,
    "scrolled": true
   },
   "outputs": [
    {
     "data": {
      "text/html": [
       "<div>\n",
       "<style scoped>\n",
       "    .dataframe tbody tr th:only-of-type {\n",
       "        vertical-align: middle;\n",
       "    }\n",
       "\n",
       "    .dataframe tbody tr th {\n",
       "        vertical-align: top;\n",
       "    }\n",
       "\n",
       "    .dataframe thead th {\n",
       "        text-align: right;\n",
       "    }\n",
       "</style>\n",
       "<table border=\"1\" class=\"dataframe\">\n",
       "  <thead>\n",
       "    <tr style=\"text-align: right;\">\n",
       "      <th></th>\n",
       "      <th>price</th>\n",
       "      <th>reg_year</th>\n",
       "      <th>power_ps</th>\n",
       "      <th>odometer_km</th>\n",
       "      <th>reg_month</th>\n",
       "      <th>amount_pics</th>\n",
       "      <th>postal_code</th>\n",
       "    </tr>\n",
       "  </thead>\n",
       "  <tbody>\n",
       "    <tr>\n",
       "      <th>count</th>\n",
       "      <td>43385.000000</td>\n",
       "      <td>43385.000000</td>\n",
       "      <td>43385.000000</td>\n",
       "      <td>43385.000000</td>\n",
       "      <td>43385.000000</td>\n",
       "      <td>43385.0</td>\n",
       "      <td>43385.000000</td>\n",
       "    </tr>\n",
       "    <tr>\n",
       "      <th>mean</th>\n",
       "      <td>4360.989121</td>\n",
       "      <td>2003.039553</td>\n",
       "      <td>112.674381</td>\n",
       "      <td>134875.187277</td>\n",
       "      <td>5.808390</td>\n",
       "      <td>0.0</td>\n",
       "      <td>50758.828443</td>\n",
       "    </tr>\n",
       "    <tr>\n",
       "      <th>std</th>\n",
       "      <td>4320.889782</td>\n",
       "      <td>6.920214</td>\n",
       "      <td>192.506257</td>\n",
       "      <td>27425.342114</td>\n",
       "      <td>3.690416</td>\n",
       "      <td>0.0</td>\n",
       "      <td>25689.587361</td>\n",
       "    </tr>\n",
       "    <tr>\n",
       "      <th>min</th>\n",
       "      <td>100.000000</td>\n",
       "      <td>1910.000000</td>\n",
       "      <td>0.000000</td>\n",
       "      <td>50000.000000</td>\n",
       "      <td>0.000000</td>\n",
       "      <td>0.0</td>\n",
       "      <td>1067.000000</td>\n",
       "    </tr>\n",
       "    <tr>\n",
       "      <th>25%</th>\n",
       "      <td>1200.000000</td>\n",
       "      <td>1999.000000</td>\n",
       "      <td>71.000000</td>\n",
       "      <td>125000.000000</td>\n",
       "      <td>3.000000</td>\n",
       "      <td>0.0</td>\n",
       "      <td>30455.000000</td>\n",
       "    </tr>\n",
       "    <tr>\n",
       "      <th>50%</th>\n",
       "      <td>2750.000000</td>\n",
       "      <td>2003.000000</td>\n",
       "      <td>105.000000</td>\n",
       "      <td>150000.000000</td>\n",
       "      <td>6.000000</td>\n",
       "      <td>0.0</td>\n",
       "      <td>49479.000000</td>\n",
       "    </tr>\n",
       "    <tr>\n",
       "      <th>75%</th>\n",
       "      <td>6150.000000</td>\n",
       "      <td>2007.000000</td>\n",
       "      <td>143.000000</td>\n",
       "      <td>150000.000000</td>\n",
       "      <td>9.000000</td>\n",
       "      <td>0.0</td>\n",
       "      <td>71277.000000</td>\n",
       "    </tr>\n",
       "    <tr>\n",
       "      <th>max</th>\n",
       "      <td>20000.000000</td>\n",
       "      <td>2019.000000</td>\n",
       "      <td>17700.000000</td>\n",
       "      <td>150000.000000</td>\n",
       "      <td>12.000000</td>\n",
       "      <td>0.0</td>\n",
       "      <td>99998.000000</td>\n",
       "    </tr>\n",
       "  </tbody>\n",
       "</table>\n",
       "</div>"
      ],
      "text/plain": [
       "              price      reg_year      power_ps    odometer_km     reg_month  \\\n",
       "count  43385.000000  43385.000000  43385.000000   43385.000000  43385.000000   \n",
       "mean    4360.989121   2003.039553    112.674381  134875.187277      5.808390   \n",
       "std     4320.889782      6.920214    192.506257   27425.342114      3.690416   \n",
       "min      100.000000   1910.000000      0.000000   50000.000000      0.000000   \n",
       "25%     1200.000000   1999.000000     71.000000  125000.000000      3.000000   \n",
       "50%     2750.000000   2003.000000    105.000000  150000.000000      6.000000   \n",
       "75%     6150.000000   2007.000000    143.000000  150000.000000      9.000000   \n",
       "max    20000.000000   2019.000000  17700.000000  150000.000000     12.000000   \n",
       "\n",
       "       amount_pics   postal_code  \n",
       "count      43385.0  43385.000000  \n",
       "mean           0.0  50758.828443  \n",
       "std            0.0  25689.587361  \n",
       "min            0.0   1067.000000  \n",
       "25%            0.0  30455.000000  \n",
       "50%            0.0  49479.000000  \n",
       "75%            0.0  71277.000000  \n",
       "max            0.0  99998.000000  "
      ]
     },
     "execution_count": 23,
     "metadata": {},
     "output_type": "execute_result"
    }
   ],
   "source": [
    "autos[autos[\"price\"].between(100,20000)].describe()"
   ]
  },
  {
   "cell_type": "markdown",
   "metadata": {},
   "source": [
    "After playing with the limits, we find that the best representation falls between $100 and $20,000."
   ]
  },
  {
   "cell_type": "code",
   "execution_count": 24,
   "metadata": {
    "collapsed": true
   },
   "outputs": [],
   "source": [
    "autos = autos[autos[\"price\"].between(100,20000)]"
   ]
  },
  {
   "cell_type": "code",
   "execution_count": 25,
   "metadata": {
    "collapsed": false
   },
   "outputs": [
    {
     "data": {
      "text/html": [
       "<div>\n",
       "<style scoped>\n",
       "    .dataframe tbody tr th:only-of-type {\n",
       "        vertical-align: middle;\n",
       "    }\n",
       "\n",
       "    .dataframe tbody tr th {\n",
       "        vertical-align: top;\n",
       "    }\n",
       "\n",
       "    .dataframe thead th {\n",
       "        text-align: right;\n",
       "    }\n",
       "</style>\n",
       "<table border=\"1\" class=\"dataframe\">\n",
       "  <thead>\n",
       "    <tr style=\"text-align: right;\">\n",
       "      <th></th>\n",
       "      <th>price</th>\n",
       "      <th>reg_year</th>\n",
       "      <th>power_ps</th>\n",
       "      <th>odometer_km</th>\n",
       "      <th>reg_month</th>\n",
       "      <th>amount_pics</th>\n",
       "      <th>postal_code</th>\n",
       "    </tr>\n",
       "  </thead>\n",
       "  <tbody>\n",
       "    <tr>\n",
       "      <th>count</th>\n",
       "      <td>43385.000000</td>\n",
       "      <td>43385.000000</td>\n",
       "      <td>43385.000000</td>\n",
       "      <td>43385.000000</td>\n",
       "      <td>43385.000000</td>\n",
       "      <td>43385.0</td>\n",
       "      <td>43385.000000</td>\n",
       "    </tr>\n",
       "    <tr>\n",
       "      <th>mean</th>\n",
       "      <td>4360.989121</td>\n",
       "      <td>2003.039553</td>\n",
       "      <td>112.674381</td>\n",
       "      <td>134875.187277</td>\n",
       "      <td>5.808390</td>\n",
       "      <td>0.0</td>\n",
       "      <td>50758.828443</td>\n",
       "    </tr>\n",
       "    <tr>\n",
       "      <th>std</th>\n",
       "      <td>4320.889782</td>\n",
       "      <td>6.920214</td>\n",
       "      <td>192.506257</td>\n",
       "      <td>27425.342114</td>\n",
       "      <td>3.690416</td>\n",
       "      <td>0.0</td>\n",
       "      <td>25689.587361</td>\n",
       "    </tr>\n",
       "    <tr>\n",
       "      <th>min</th>\n",
       "      <td>100.000000</td>\n",
       "      <td>1910.000000</td>\n",
       "      <td>0.000000</td>\n",
       "      <td>50000.000000</td>\n",
       "      <td>0.000000</td>\n",
       "      <td>0.0</td>\n",
       "      <td>1067.000000</td>\n",
       "    </tr>\n",
       "    <tr>\n",
       "      <th>25%</th>\n",
       "      <td>1200.000000</td>\n",
       "      <td>1999.000000</td>\n",
       "      <td>71.000000</td>\n",
       "      <td>125000.000000</td>\n",
       "      <td>3.000000</td>\n",
       "      <td>0.0</td>\n",
       "      <td>30455.000000</td>\n",
       "    </tr>\n",
       "    <tr>\n",
       "      <th>50%</th>\n",
       "      <td>2750.000000</td>\n",
       "      <td>2003.000000</td>\n",
       "      <td>105.000000</td>\n",
       "      <td>150000.000000</td>\n",
       "      <td>6.000000</td>\n",
       "      <td>0.0</td>\n",
       "      <td>49479.000000</td>\n",
       "    </tr>\n",
       "    <tr>\n",
       "      <th>75%</th>\n",
       "      <td>6150.000000</td>\n",
       "      <td>2007.000000</td>\n",
       "      <td>143.000000</td>\n",
       "      <td>150000.000000</td>\n",
       "      <td>9.000000</td>\n",
       "      <td>0.0</td>\n",
       "      <td>71277.000000</td>\n",
       "    </tr>\n",
       "    <tr>\n",
       "      <th>max</th>\n",
       "      <td>20000.000000</td>\n",
       "      <td>2019.000000</td>\n",
       "      <td>17700.000000</td>\n",
       "      <td>150000.000000</td>\n",
       "      <td>12.000000</td>\n",
       "      <td>0.0</td>\n",
       "      <td>99998.000000</td>\n",
       "    </tr>\n",
       "  </tbody>\n",
       "</table>\n",
       "</div>"
      ],
      "text/plain": [
       "              price      reg_year      power_ps    odometer_km     reg_month  \\\n",
       "count  43385.000000  43385.000000  43385.000000   43385.000000  43385.000000   \n",
       "mean    4360.989121   2003.039553    112.674381  134875.187277      5.808390   \n",
       "std     4320.889782      6.920214    192.506257   27425.342114      3.690416   \n",
       "min      100.000000   1910.000000      0.000000   50000.000000      0.000000   \n",
       "25%     1200.000000   1999.000000     71.000000  125000.000000      3.000000   \n",
       "50%     2750.000000   2003.000000    105.000000  150000.000000      6.000000   \n",
       "75%     6150.000000   2007.000000    143.000000  150000.000000      9.000000   \n",
       "max    20000.000000   2019.000000  17700.000000  150000.000000     12.000000   \n",
       "\n",
       "       amount_pics   postal_code  \n",
       "count      43385.0  43385.000000  \n",
       "mean           0.0  50758.828443  \n",
       "std            0.0  25689.587361  \n",
       "min            0.0   1067.000000  \n",
       "25%            0.0  30455.000000  \n",
       "50%            0.0  49479.000000  \n",
       "75%            0.0  71277.000000  \n",
       "max            0.0  99998.000000  "
      ]
     },
     "execution_count": 25,
     "metadata": {},
     "output_type": "execute_result"
    }
   ],
   "source": [
    "autos.describe()"
   ]
  },
  {
   "cell_type": "markdown",
   "metadata": {},
   "source": [
    "With the remaining values, we can see that roughly 86% of values remain, which so fars feels like a good chunk of outlier data has been removed."
   ]
  },
  {
   "cell_type": "code",
   "execution_count": 26,
   "metadata": {
    "collapsed": false
   },
   "outputs": [
    {
     "data": {
      "text/html": [
       "<div>\n",
       "<style scoped>\n",
       "    .dataframe tbody tr th:only-of-type {\n",
       "        vertical-align: middle;\n",
       "    }\n",
       "\n",
       "    .dataframe tbody tr th {\n",
       "        vertical-align: top;\n",
       "    }\n",
       "\n",
       "    .dataframe thead th {\n",
       "        text-align: right;\n",
       "    }\n",
       "</style>\n",
       "<table border=\"1\" class=\"dataframe\">\n",
       "  <thead>\n",
       "    <tr style=\"text-align: right;\">\n",
       "      <th></th>\n",
       "      <th>date_crawled</th>\n",
       "      <th>name</th>\n",
       "      <th>seller</th>\n",
       "      <th>offer_type</th>\n",
       "      <th>price</th>\n",
       "      <th>ab_test</th>\n",
       "      <th>vehicle_type</th>\n",
       "      <th>reg_year</th>\n",
       "      <th>gearbox</th>\n",
       "      <th>power_ps</th>\n",
       "      <th>model</th>\n",
       "      <th>odometer_km</th>\n",
       "      <th>reg_month</th>\n",
       "      <th>fuel_type</th>\n",
       "      <th>brand</th>\n",
       "      <th>unrepaired</th>\n",
       "      <th>ad_created</th>\n",
       "      <th>amount_pics</th>\n",
       "      <th>postal_code</th>\n",
       "      <th>last_seen</th>\n",
       "    </tr>\n",
       "  </thead>\n",
       "  <tbody>\n",
       "    <tr>\n",
       "      <th>0</th>\n",
       "      <td>2016-03-26 17:47:46</td>\n",
       "      <td>Peugeot_807_160_NAVTECH_ON_BOARD</td>\n",
       "      <td>privat</td>\n",
       "      <td>Angebot</td>\n",
       "      <td>5000</td>\n",
       "      <td>control</td>\n",
       "      <td>bus</td>\n",
       "      <td>2004</td>\n",
       "      <td>manuell</td>\n",
       "      <td>158</td>\n",
       "      <td>andere</td>\n",
       "      <td>150000</td>\n",
       "      <td>3</td>\n",
       "      <td>lpg</td>\n",
       "      <td>peugeot</td>\n",
       "      <td>nein</td>\n",
       "      <td>2016-03-26 00:00:00</td>\n",
       "      <td>0</td>\n",
       "      <td>79588</td>\n",
       "      <td>2016-04-06 06:45:54</td>\n",
       "    </tr>\n",
       "    <tr>\n",
       "      <th>1</th>\n",
       "      <td>2016-04-04 13:38:56</td>\n",
       "      <td>BMW_740i_4_4_Liter_HAMANN_UMBAU_Mega_Optik</td>\n",
       "      <td>privat</td>\n",
       "      <td>Angebot</td>\n",
       "      <td>8500</td>\n",
       "      <td>control</td>\n",
       "      <td>limousine</td>\n",
       "      <td>1997</td>\n",
       "      <td>automatik</td>\n",
       "      <td>286</td>\n",
       "      <td>7er</td>\n",
       "      <td>150000</td>\n",
       "      <td>6</td>\n",
       "      <td>benzin</td>\n",
       "      <td>bmw</td>\n",
       "      <td>nein</td>\n",
       "      <td>2016-04-04 00:00:00</td>\n",
       "      <td>0</td>\n",
       "      <td>71034</td>\n",
       "      <td>2016-04-06 14:45:08</td>\n",
       "    </tr>\n",
       "    <tr>\n",
       "      <th>2</th>\n",
       "      <td>2016-03-26 18:57:24</td>\n",
       "      <td>Volkswagen_Golf_1.6_United</td>\n",
       "      <td>privat</td>\n",
       "      <td>Angebot</td>\n",
       "      <td>8990</td>\n",
       "      <td>test</td>\n",
       "      <td>limousine</td>\n",
       "      <td>2009</td>\n",
       "      <td>manuell</td>\n",
       "      <td>102</td>\n",
       "      <td>golf</td>\n",
       "      <td>70000</td>\n",
       "      <td>7</td>\n",
       "      <td>benzin</td>\n",
       "      <td>volkswagen</td>\n",
       "      <td>nein</td>\n",
       "      <td>2016-03-26 00:00:00</td>\n",
       "      <td>0</td>\n",
       "      <td>35394</td>\n",
       "      <td>2016-04-06 20:15:37</td>\n",
       "    </tr>\n",
       "    <tr>\n",
       "      <th>3</th>\n",
       "      <td>2016-03-12 16:58:10</td>\n",
       "      <td>Smart_smart_fortwo_coupe_softouch/F1/Klima/Pan...</td>\n",
       "      <td>privat</td>\n",
       "      <td>Angebot</td>\n",
       "      <td>4350</td>\n",
       "      <td>control</td>\n",
       "      <td>kleinwagen</td>\n",
       "      <td>2007</td>\n",
       "      <td>automatik</td>\n",
       "      <td>71</td>\n",
       "      <td>fortwo</td>\n",
       "      <td>70000</td>\n",
       "      <td>6</td>\n",
       "      <td>benzin</td>\n",
       "      <td>smart</td>\n",
       "      <td>nein</td>\n",
       "      <td>2016-03-12 00:00:00</td>\n",
       "      <td>0</td>\n",
       "      <td>33729</td>\n",
       "      <td>2016-03-15 03:16:28</td>\n",
       "    </tr>\n",
       "    <tr>\n",
       "      <th>4</th>\n",
       "      <td>2016-04-01 14:38:50</td>\n",
       "      <td>Ford_Focus_1_6_Benzin_TÜV_neu_ist_sehr_gepfleg...</td>\n",
       "      <td>privat</td>\n",
       "      <td>Angebot</td>\n",
       "      <td>1350</td>\n",
       "      <td>test</td>\n",
       "      <td>kombi</td>\n",
       "      <td>2003</td>\n",
       "      <td>manuell</td>\n",
       "      <td>0</td>\n",
       "      <td>focus</td>\n",
       "      <td>150000</td>\n",
       "      <td>7</td>\n",
       "      <td>benzin</td>\n",
       "      <td>ford</td>\n",
       "      <td>nein</td>\n",
       "      <td>2016-04-01 00:00:00</td>\n",
       "      <td>0</td>\n",
       "      <td>39218</td>\n",
       "      <td>2016-04-01 14:38:50</td>\n",
       "    </tr>\n",
       "  </tbody>\n",
       "</table>\n",
       "</div>"
      ],
      "text/plain": [
       "          date_crawled                                               name  \\\n",
       "0  2016-03-26 17:47:46                   Peugeot_807_160_NAVTECH_ON_BOARD   \n",
       "1  2016-04-04 13:38:56         BMW_740i_4_4_Liter_HAMANN_UMBAU_Mega_Optik   \n",
       "2  2016-03-26 18:57:24                         Volkswagen_Golf_1.6_United   \n",
       "3  2016-03-12 16:58:10  Smart_smart_fortwo_coupe_softouch/F1/Klima/Pan...   \n",
       "4  2016-04-01 14:38:50  Ford_Focus_1_6_Benzin_TÜV_neu_ist_sehr_gepfleg...   \n",
       "\n",
       "   seller offer_type  price  ab_test vehicle_type  reg_year    gearbox  \\\n",
       "0  privat    Angebot   5000  control          bus      2004    manuell   \n",
       "1  privat    Angebot   8500  control    limousine      1997  automatik   \n",
       "2  privat    Angebot   8990     test    limousine      2009    manuell   \n",
       "3  privat    Angebot   4350  control   kleinwagen      2007  automatik   \n",
       "4  privat    Angebot   1350     test        kombi      2003    manuell   \n",
       "\n",
       "   power_ps   model  odometer_km  reg_month fuel_type       brand unrepaired  \\\n",
       "0       158  andere       150000          3       lpg     peugeot       nein   \n",
       "1       286     7er       150000          6    benzin         bmw       nein   \n",
       "2       102    golf        70000          7    benzin  volkswagen       nein   \n",
       "3        71  fortwo        70000          6    benzin       smart       nein   \n",
       "4         0   focus       150000          7    benzin        ford       nein   \n",
       "\n",
       "            ad_created  amount_pics  postal_code            last_seen  \n",
       "0  2016-03-26 00:00:00            0        79588  2016-04-06 06:45:54  \n",
       "1  2016-04-04 00:00:00            0        71034  2016-04-06 14:45:08  \n",
       "2  2016-03-26 00:00:00            0        35394  2016-04-06 20:15:37  \n",
       "3  2016-03-12 00:00:00            0        33729  2016-03-15 03:16:28  \n",
       "4  2016-04-01 00:00:00            0        39218  2016-04-01 14:38:50  "
      ]
     },
     "execution_count": 26,
     "metadata": {},
     "output_type": "execute_result"
    }
   ],
   "source": [
    "autos.head()"
   ]
  },
  {
   "cell_type": "code",
   "execution_count": 27,
   "metadata": {
    "collapsed": false
   },
   "outputs": [
    {
     "data": {
      "text/html": [
       "<div>\n",
       "<style scoped>\n",
       "    .dataframe tbody tr th:only-of-type {\n",
       "        vertical-align: middle;\n",
       "    }\n",
       "\n",
       "    .dataframe tbody tr th {\n",
       "        vertical-align: top;\n",
       "    }\n",
       "\n",
       "    .dataframe thead th {\n",
       "        text-align: right;\n",
       "    }\n",
       "</style>\n",
       "<table border=\"1\" class=\"dataframe\">\n",
       "  <thead>\n",
       "    <tr style=\"text-align: right;\">\n",
       "      <th></th>\n",
       "      <th>date_crawled</th>\n",
       "      <th>ad_created</th>\n",
       "      <th>last_seen</th>\n",
       "    </tr>\n",
       "  </thead>\n",
       "  <tbody>\n",
       "    <tr>\n",
       "      <th>0</th>\n",
       "      <td>2016-03-26 17:47:46</td>\n",
       "      <td>2016-03-26 00:00:00</td>\n",
       "      <td>2016-04-06 06:45:54</td>\n",
       "    </tr>\n",
       "    <tr>\n",
       "      <th>1</th>\n",
       "      <td>2016-04-04 13:38:56</td>\n",
       "      <td>2016-04-04 00:00:00</td>\n",
       "      <td>2016-04-06 14:45:08</td>\n",
       "    </tr>\n",
       "    <tr>\n",
       "      <th>2</th>\n",
       "      <td>2016-03-26 18:57:24</td>\n",
       "      <td>2016-03-26 00:00:00</td>\n",
       "      <td>2016-04-06 20:15:37</td>\n",
       "    </tr>\n",
       "    <tr>\n",
       "      <th>3</th>\n",
       "      <td>2016-03-12 16:58:10</td>\n",
       "      <td>2016-03-12 00:00:00</td>\n",
       "      <td>2016-03-15 03:16:28</td>\n",
       "    </tr>\n",
       "    <tr>\n",
       "      <th>4</th>\n",
       "      <td>2016-04-01 14:38:50</td>\n",
       "      <td>2016-04-01 00:00:00</td>\n",
       "      <td>2016-04-01 14:38:50</td>\n",
       "    </tr>\n",
       "  </tbody>\n",
       "</table>\n",
       "</div>"
      ],
      "text/plain": [
       "          date_crawled           ad_created            last_seen\n",
       "0  2016-03-26 17:47:46  2016-03-26 00:00:00  2016-04-06 06:45:54\n",
       "1  2016-04-04 13:38:56  2016-04-04 00:00:00  2016-04-06 14:45:08\n",
       "2  2016-03-26 18:57:24  2016-03-26 00:00:00  2016-04-06 20:15:37\n",
       "3  2016-03-12 16:58:10  2016-03-12 00:00:00  2016-03-15 03:16:28\n",
       "4  2016-04-01 14:38:50  2016-04-01 00:00:00  2016-04-01 14:38:50"
      ]
     },
     "execution_count": 27,
     "metadata": {},
     "output_type": "execute_result"
    }
   ],
   "source": [
    "autos[[\"date_crawled\", \"ad_created\", \"last_seen\"]][0:5]"
   ]
  },
  {
   "cell_type": "code",
   "execution_count": 28,
   "metadata": {
    "collapsed": false
   },
   "outputs": [
    {
     "data": {
      "text/plain": [
       "0    2016-03-26\n",
       "1    2016-04-04\n",
       "2    2016-03-26\n",
       "3    2016-03-12\n",
       "4    2016-04-01\n",
       "Name: date_crawled, dtype: object"
      ]
     },
     "execution_count": 28,
     "metadata": {},
     "output_type": "execute_result"
    }
   ],
   "source": [
    "autos[\"date_crawled\"].str[0:10][0:5]"
   ]
  },
  {
   "cell_type": "code",
   "execution_count": 29,
   "metadata": {
    "collapsed": true
   },
   "outputs": [],
   "source": [
    "crawled = autos[\"date_crawled\"].str[0:10]"
   ]
  },
  {
   "cell_type": "code",
   "execution_count": 30,
   "metadata": {
    "collapsed": false
   },
   "outputs": [
    {
     "data": {
      "text/plain": [
       "count          43385\n",
       "unique            34\n",
       "top       2016-04-03\n",
       "freq            1667\n",
       "Name: date_crawled, dtype: object"
      ]
     },
     "execution_count": 30,
     "metadata": {},
     "output_type": "execute_result"
    }
   ],
   "source": [
    "crawled.describe()"
   ]
  },
  {
   "cell_type": "code",
   "execution_count": 31,
   "metadata": {
    "collapsed": false
   },
   "outputs": [
    {
     "data": {
      "text/plain": [
       "2016-03-05    2.54\n",
       "2016-03-06    1.40\n",
       "2016-03-07    3.60\n",
       "2016-03-08    3.39\n",
       "2016-03-09    3.31\n",
       "2016-03-10    3.25\n",
       "2016-03-11    3.20\n",
       "2016-03-12    3.74\n",
       "2016-03-13    1.54\n",
       "2016-03-14    3.70\n",
       "2016-03-15    3.40\n",
       "2016-03-16    2.95\n",
       "2016-03-17    3.14\n",
       "2016-03-18    1.28\n",
       "2016-03-19    3.46\n",
       "2016-03-20    3.78\n",
       "2016-03-21    3.71\n",
       "2016-03-22    3.27\n",
       "2016-03-23    3.23\n",
       "2016-03-24    2.93\n",
       "2016-03-25    3.16\n",
       "2016-03-26    3.29\n",
       "2016-03-27    3.08\n",
       "2016-03-28    3.49\n",
       "2016-03-29    3.41\n",
       "2016-03-30    3.37\n",
       "2016-03-31    3.16\n",
       "2016-04-01    3.32\n",
       "2016-04-02    3.55\n",
       "2016-04-03    3.84\n",
       "2016-04-04    3.68\n",
       "2016-04-05    1.32\n",
       "2016-04-06    0.32\n",
       "2016-04-07    0.14\n",
       "Name: date_crawled, dtype: float64"
      ]
     },
     "execution_count": 31,
     "metadata": {},
     "output_type": "execute_result"
    }
   ],
   "source": [
    "round(crawled.value_counts(normalize=True, dropna=False)*100,2).sort_index()"
   ]
  },
  {
   "cell_type": "markdown",
   "metadata": {},
   "source": [
    "Checking on the date_crawled column, we can see that the crawling rate was around 3% of values per day."
   ]
  },
  {
   "cell_type": "code",
   "execution_count": null,
   "metadata": {
    "collapsed": true
   },
   "outputs": [],
   "source": []
  },
  {
   "cell_type": "code",
   "execution_count": 32,
   "metadata": {
    "collapsed": true
   },
   "outputs": [],
   "source": [
    "created = autos[\"ad_created\"].str[0:10]"
   ]
  },
  {
   "cell_type": "code",
   "execution_count": 33,
   "metadata": {
    "collapsed": false
   },
   "outputs": [
    {
     "data": {
      "text/plain": [
       "count          43385\n",
       "unique            72\n",
       "top       2016-04-03\n",
       "freq            1680\n",
       "Name: ad_created, dtype: object"
      ]
     },
     "execution_count": 33,
     "metadata": {},
     "output_type": "execute_result"
    }
   ],
   "source": [
    "created.describe()"
   ]
  },
  {
   "cell_type": "code",
   "execution_count": 34,
   "metadata": {
    "collapsed": false
   },
   "outputs": [
    {
     "data": {
      "text/plain": [
       "2015-08-10    0.002305\n",
       "2015-09-09    0.002305\n",
       "2015-11-10    0.002305\n",
       "2015-12-05    0.002305\n",
       "2015-12-30    0.002305\n",
       "2016-01-03    0.002305\n",
       "2016-01-07    0.002305\n",
       "2016-01-10    0.004610\n",
       "2016-01-13    0.002305\n",
       "2016-01-16    0.002305\n",
       "2016-01-22    0.002305\n",
       "2016-01-27    0.006915\n",
       "2016-01-29    0.002305\n",
       "2016-02-01    0.002305\n",
       "2016-02-02    0.004610\n",
       "2016-02-05    0.004610\n",
       "2016-02-07    0.002305\n",
       "2016-02-08    0.002305\n",
       "2016-02-11    0.002305\n",
       "2016-02-12    0.004610\n",
       "2016-02-14    0.004610\n",
       "2016-02-16    0.002305\n",
       "2016-02-18    0.004610\n",
       "2016-02-19    0.004610\n",
       "2016-02-20    0.004610\n",
       "2016-02-21    0.006915\n",
       "2016-02-22    0.002305\n",
       "2016-02-23    0.006915\n",
       "2016-02-24    0.002305\n",
       "2016-02-25    0.004610\n",
       "                ...   \n",
       "2016-03-09    3.314510\n",
       "2016-03-10    3.217702\n",
       "2016-03-11    3.240751\n",
       "2016-03-12    3.727095\n",
       "2016-03-13    1.680304\n",
       "2016-03-14    3.556529\n",
       "2016-03-15    3.374438\n",
       "2016-03-16    3.007952\n",
       "2016-03-17    3.097845\n",
       "2016-03-18    1.357612\n",
       "2016-03-19    3.351389\n",
       "2016-03-20    3.782413\n",
       "2016-03-21    3.729400\n",
       "2016-03-22    3.261496\n",
       "2016-03-23    3.220007\n",
       "2016-03-24    2.922669\n",
       "2016-03-25    3.173908\n",
       "2016-03-26    3.291460\n",
       "2016-03-27    3.072490\n",
       "2016-03-28    3.505820\n",
       "2016-03-29    3.415927\n",
       "2016-03-30    3.344474\n",
       "2016-03-31    3.171603\n",
       "2016-04-01    3.323729\n",
       "2016-04-02    3.519650\n",
       "2016-04-03    3.872306\n",
       "2016-04-04    3.724790\n",
       "2016-04-05    1.187046\n",
       "2016-04-06    0.329607\n",
       "2016-04-07    0.126772\n",
       "Name: ad_created, Length: 72, dtype: float64"
      ]
     },
     "execution_count": 34,
     "metadata": {},
     "output_type": "execute_result"
    }
   ],
   "source": [
    "round(created.value_counts(normalize=True, dropna=False)*100,32).sort_index()"
   ]
  },
  {
   "cell_type": "markdown",
   "metadata": {},
   "source": [
    "In this case, we can see that very few ads were created before March 2016, with less than hundredth of 1% per day before March the 1st."
   ]
  },
  {
   "cell_type": "code",
   "execution_count": 35,
   "metadata": {
    "collapsed": true
   },
   "outputs": [],
   "source": [
    "seen = autos[\"last_seen\"].str[0:10]"
   ]
  },
  {
   "cell_type": "code",
   "execution_count": 36,
   "metadata": {
    "collapsed": false
   },
   "outputs": [
    {
     "data": {
      "text/plain": [
       "count          43385\n",
       "unique            34\n",
       "top       2016-04-06\n",
       "freq            9384\n",
       "Name: last_seen, dtype: object"
      ]
     },
     "execution_count": 36,
     "metadata": {},
     "output_type": "execute_result"
    }
   ],
   "source": [
    "seen.describe()"
   ]
  },
  {
   "cell_type": "code",
   "execution_count": 37,
   "metadata": {
    "collapsed": false
   },
   "outputs": [
    {
     "data": {
      "text/plain": [
       "2016-03-05     0.106027\n",
       "2016-03-06     0.460989\n",
       "2016-03-07     0.573931\n",
       "2016-03-08     0.783681\n",
       "2016-03-09     0.995736\n",
       "2016-03-10     1.085629\n",
       "2016-03-11     1.316123\n",
       "2016-03-12     2.436326\n",
       "2016-03-13     0.917368\n",
       "2016-03-14     1.281549\n",
       "2016-03-15     1.606546\n",
       "2016-03-16     1.689524\n",
       "2016-03-17     2.901925\n",
       "2016-03-18     0.744497\n",
       "2016-03-19     1.650340\n",
       "2016-03-20     2.152818\n",
       "2016-03-21     2.111329\n",
       "2016-03-22     2.175867\n",
       "2016-03-23     1.896969\n",
       "2016-03-24     2.042180\n",
       "2016-03-25     1.970727\n",
       "2016-03-26     1.701049\n",
       "2016-03-27     1.595021\n",
       "2016-03-28     2.150513\n",
       "2016-03-29     2.316469\n",
       "2016-03-30     2.544658\n",
       "2016-03-31     2.436326\n",
       "2016-04-01     2.339518\n",
       "2016-04-02     2.503169\n",
       "2016-04-03     2.528524\n",
       "2016-04-04     2.519304\n",
       "2016-04-05    12.151665\n",
       "2016-04-06    21.629595\n",
       "2016-04-07    12.684107\n",
       "Name: last_seen, dtype: float64"
      ]
     },
     "execution_count": 37,
     "metadata": {},
     "output_type": "execute_result"
    }
   ],
   "source": [
    "round(seen.value_counts(normalize=True, dropna=False)*100,32).sort_index()"
   ]
  },
  {
   "cell_type": "markdown",
   "metadata": {},
   "source": [
    "More than 45% of values were last seen on the last three days."
   ]
  },
  {
   "cell_type": "code",
   "execution_count": 38,
   "metadata": {
    "collapsed": false
   },
   "outputs": [
    {
     "data": {
      "text/plain": [
       "count    43385.000000\n",
       "mean      2003.039553\n",
       "std          6.920214\n",
       "min       1910.000000\n",
       "25%       1999.000000\n",
       "50%       2003.000000\n",
       "75%       2007.000000\n",
       "max       2019.000000\n",
       "Name: reg_year, dtype: float64"
      ]
     },
     "execution_count": 38,
     "metadata": {},
     "output_type": "execute_result"
    }
   ],
   "source": [
    "autos[\"reg_year\"].describe()"
   ]
  },
  {
   "cell_type": "code",
   "execution_count": 39,
   "metadata": {
    "collapsed": false
   },
   "outputs": [
    {
     "data": {
      "text/plain": [
       "1910    0.002305\n",
       "1934    0.002305\n",
       "1937    0.002305\n",
       "1948    0.002305\n",
       "1952    0.002305\n",
       "1953    0.002305\n",
       "1954    0.004610\n",
       "1956    0.004610\n",
       "1958    0.006915\n",
       "1959    0.006915\n",
       "1960    0.029964\n",
       "1961    0.004610\n",
       "1962    0.004610\n",
       "1963    0.016135\n",
       "1964    0.018440\n",
       "1965    0.027659\n",
       "1966    0.027659\n",
       "1967    0.041489\n",
       "1968    0.025354\n",
       "1969    0.025354\n",
       "1970    0.043794\n",
       "1971    0.034574\n",
       "1972    0.050709\n",
       "1973    0.043794\n",
       "1974    0.025354\n",
       "1975    0.025354\n",
       "1976    0.041489\n",
       "1977    0.043794\n",
       "1978    0.071453\n",
       "1979    0.057624\n",
       "          ...   \n",
       "1990    0.689178\n",
       "1991    0.749107\n",
       "1992    0.785986\n",
       "1993    0.935807\n",
       "1994    1.371442\n",
       "1995    2.613807\n",
       "1996    3.033306\n",
       "1997    4.330990\n",
       "1998    5.232223\n",
       "1999    6.479198\n",
       "2000    6.935577\n",
       "2001    5.896047\n",
       "2002    5.543391\n",
       "2003    6.101187\n",
       "2004    6.071223\n",
       "2005    6.490723\n",
       "2006    5.955976\n",
       "2007    4.957935\n",
       "2008    4.718221\n",
       "2009    4.301026\n",
       "2010    2.918059\n",
       "2011    2.682955\n",
       "2012    1.650340\n",
       "2013    0.571626\n",
       "2014    0.117552\n",
       "2015    0.006915\n",
       "2016    2.551573\n",
       "2017    3.005647\n",
       "2018    1.016480\n",
       "2019    0.002305\n",
       "Name: reg_year, Length: 70, dtype: float64"
      ]
     },
     "execution_count": 39,
     "metadata": {},
     "output_type": "execute_result"
    }
   ],
   "source": [
    "round(autos[\"reg_year\"].value_counts(normalize=True, dropna=False)*100,32).sort_index()"
   ]
  },
  {
   "cell_type": "code",
   "execution_count": 40,
   "metadata": {
    "collapsed": false
   },
   "outputs": [
    {
     "data": {
      "text/plain": [
       "(1991.75, 2019.0]     96.277515\n",
       "(1964.5, 1991.75]      3.611847\n",
       "(1937.25, 1964.5]      0.103722\n",
       "(1909.89, 1937.25]     0.006915\n",
       "Name: reg_year, dtype: float64"
      ]
     },
     "execution_count": 40,
     "metadata": {},
     "output_type": "execute_result"
    }
   ],
   "source": [
    "autos[\"reg_year\"].value_counts(bins=4, normalize=True)*100"
   ]
  },
  {
   "cell_type": "markdown",
   "metadata": {},
   "source": [
    "Aroud 96% of values range between 1991-2016, so we'll stick to that range."
   ]
  },
  {
   "cell_type": "code",
   "execution_count": 41,
   "metadata": {
    "collapsed": false
   },
   "outputs": [],
   "source": [
    "autos = autos[autos[\"reg_year\"].between(1991,2016)]"
   ]
  },
  {
   "cell_type": "code",
   "execution_count": 42,
   "metadata": {
    "collapsed": false
   },
   "outputs": [
    {
     "data": {
      "text/plain": [
       "volkswagen        21.363603\n",
       "opel              11.435228\n",
       "bmw               10.991598\n",
       "mercedes_benz      9.033681\n",
       "audi               8.339736\n",
       "ford               7.266599\n",
       "renault            5.070758\n",
       "peugeot            3.264021\n",
       "fiat               2.587425\n",
       "seat               1.918263\n",
       "skoda              1.615901\n",
       "mazda              1.598553\n",
       "nissan             1.576247\n",
       "citroen            1.454807\n",
       "smart              1.427545\n",
       "toyota             1.306104\n",
       "hyundai            1.006221\n",
       "volvo              0.949218\n",
       "mitsubishi         0.867432\n",
       "honda              0.822821\n",
       "mini               0.788124\n",
       "kia                0.698902\n",
       "alfa_romeo         0.693945\n",
       "suzuki             0.589854\n",
       "sonstige_autos     0.488240\n",
       "chevrolet          0.475848\n",
       "chrysler           0.379192\n",
       "daihatsu           0.252794\n",
       "subaru             0.220575\n",
       "dacia              0.213140\n",
       "jeep               0.208184\n",
       "saab               0.175965\n",
       "daewoo             0.163573\n",
       "porsche            0.158616\n",
       "land_rover         0.156138\n",
       "rover              0.148703\n",
       "jaguar             0.138789\n",
       "lancia             0.101613\n",
       "lada               0.047089\n",
       "trabant            0.004957\n",
       "Name: brand, dtype: float64"
      ]
     },
     "execution_count": 42,
     "metadata": {},
     "output_type": "execute_result"
    }
   ],
   "source": [
    "autos[\"brand\"].value_counts(normalize=True)*100\n"
   ]
  },
  {
   "cell_type": "markdown",
   "metadata": {},
   "source": [
    "We'll stick to brands with 1% or higher."
   ]
  },
  {
   "cell_type": "code",
   "execution_count": 43,
   "metadata": {
    "collapsed": false
   },
   "outputs": [
    {
     "data": {
      "text/plain": [
       "Index(['volkswagen', 'opel', 'bmw', 'mercedes_benz', 'audi', 'ford', 'renault',\n",
       "       'peugeot', 'fiat', 'seat', 'skoda', 'mazda', 'nissan', 'citroen',\n",
       "       'smart', 'toyota', 'hyundai'],\n",
       "      dtype='object')"
      ]
     },
     "execution_count": 43,
     "metadata": {},
     "output_type": "execute_result"
    }
   ],
   "source": [
    "brand_bool = autos[\"brand\"].value_counts(normalize=True)*100 > 1\n",
    "brands = brand_bool[autos[\"brand\"].value_counts(normalize=True)*100 > 1].index\n",
    "brands"
   ]
  },
  {
   "cell_type": "code",
   "execution_count": 44,
   "metadata": {
    "collapsed": false
   },
   "outputs": [
    {
     "data": {
      "text/plain": [
       "4398.198394012244"
      ]
     },
     "execution_count": 44,
     "metadata": {},
     "output_type": "execute_result"
    }
   ],
   "source": [
    "autos[\"price\"].mean()"
   ]
  },
  {
   "cell_type": "code",
   "execution_count": 45,
   "metadata": {
    "collapsed": false
   },
   "outputs": [],
   "source": [
    "top_brands = {}\n",
    "for a in brands:\n",
    "    mean = autos[autos[\"brand\"] == a][\"price\"].mean()\n",
    "    top_brands[a] = round(mean, 2)\n"
   ]
  },
  {
   "cell_type": "code",
   "execution_count": 46,
   "metadata": {
    "collapsed": false
   },
   "outputs": [
    {
     "data": {
      "text/plain": [
       "{'audi': 6485.09,\n",
       " 'bmw': 6375.59,\n",
       " 'citroen': 3296.9,\n",
       " 'fiat': 2298.78,\n",
       " 'ford': 2899.85,\n",
       " 'hyundai': 4623.29,\n",
       " 'mazda': 3458.08,\n",
       " 'mercedes_benz': 6047.74,\n",
       " 'nissan': 4089.07,\n",
       " 'opel': 2659.47,\n",
       " 'peugeot': 2883.18,\n",
       " 'renault': 2121.19,\n",
       " 'seat': 3684.29,\n",
       " 'skoda': 5394.73,\n",
       " 'smart': 3194.48,\n",
       " 'toyota': 4456.53,\n",
       " 'volkswagen': 4455.8}"
      ]
     },
     "execution_count": 46,
     "metadata": {},
     "output_type": "execute_result"
    }
   ],
   "source": [
    "top_brands\n"
   ]
  },
  {
   "cell_type": "markdown",
   "metadata": {},
   "source": [
    "As it might be expected, the most valuable brands are **Audi, BMW, Mercedes Benz**, then the least valuable ones are **Renault, Fiat and Opel**. Brands around the overall mean are **Hyundai, Toyota and Volkswagen**"
   ]
  },
  {
   "cell_type": "code",
   "execution_count": 47,
   "metadata": {
    "collapsed": false
   },
   "outputs": [],
   "source": [
    "top_price_brands = {}\n",
    "for a in brands:\n",
    "    mean = autos[autos[\"brand\"] == a][\"price\"].mean()\n",
    "    top_price_brands[a] = round(mean, 2)\n",
    "\n",
    "top_mileage_brands = {}\n",
    "for a in brands:\n",
    "    mean = autos[autos[\"brand\"] == a][\"odometer_km\"].mean()\n",
    "    top_mileage_brands[a] = round(mean, 2)"
   ]
  },
  {
   "cell_type": "code",
   "execution_count": 48,
   "metadata": {
    "collapsed": false
   },
   "outputs": [],
   "source": [
    "bmp_series = pd.Series(top_price_brands)\n",
    "bmm_series = pd.Series(top_mileage_brands)\n"
   ]
  },
  {
   "cell_type": "code",
   "execution_count": 49,
   "metadata": {
    "collapsed": false
   },
   "outputs": [
    {
     "data": {
      "text/html": [
       "<div>\n",
       "<style scoped>\n",
       "    .dataframe tbody tr th:only-of-type {\n",
       "        vertical-align: middle;\n",
       "    }\n",
       "\n",
       "    .dataframe tbody tr th {\n",
       "        vertical-align: top;\n",
       "    }\n",
       "\n",
       "    .dataframe thead th {\n",
       "        text-align: right;\n",
       "    }\n",
       "</style>\n",
       "<table border=\"1\" class=\"dataframe\">\n",
       "  <thead>\n",
       "    <tr style=\"text-align: right;\">\n",
       "      <th></th>\n",
       "      <th>mean_price</th>\n",
       "      <th>mean_mileage</th>\n",
       "    </tr>\n",
       "  </thead>\n",
       "  <tbody>\n",
       "    <tr>\n",
       "      <th>audi</th>\n",
       "      <td>6485.09</td>\n",
       "      <td>140946.51</td>\n",
       "    </tr>\n",
       "    <tr>\n",
       "      <th>bmw</th>\n",
       "      <td>6375.59</td>\n",
       "      <td>140656.14</td>\n",
       "    </tr>\n",
       "    <tr>\n",
       "      <th>mercedes_benz</th>\n",
       "      <td>6047.74</td>\n",
       "      <td>140090.53</td>\n",
       "    </tr>\n",
       "    <tr>\n",
       "      <th>skoda</th>\n",
       "      <td>5394.73</td>\n",
       "      <td>124486.20</td>\n",
       "    </tr>\n",
       "    <tr>\n",
       "      <th>hyundai</th>\n",
       "      <td>4623.29</td>\n",
       "      <td>118201.97</td>\n",
       "    </tr>\n",
       "    <tr>\n",
       "      <th>toyota</th>\n",
       "      <td>4456.53</td>\n",
       "      <td>124791.27</td>\n",
       "    </tr>\n",
       "    <tr>\n",
       "      <th>volkswagen</th>\n",
       "      <td>4455.80</td>\n",
       "      <td>137216.36</td>\n",
       "    </tr>\n",
       "    <tr>\n",
       "      <th>nissan</th>\n",
       "      <td>4089.07</td>\n",
       "      <td>127114.78</td>\n",
       "    </tr>\n",
       "    <tr>\n",
       "      <th>seat</th>\n",
       "      <td>3684.29</td>\n",
       "      <td>130161.50</td>\n",
       "    </tr>\n",
       "    <tr>\n",
       "      <th>mazda</th>\n",
       "      <td>3458.08</td>\n",
       "      <td>132604.65</td>\n",
       "    </tr>\n",
       "    <tr>\n",
       "      <th>citroen</th>\n",
       "      <td>3296.90</td>\n",
       "      <td>127316.87</td>\n",
       "    </tr>\n",
       "    <tr>\n",
       "      <th>smart</th>\n",
       "      <td>3194.48</td>\n",
       "      <td>109548.61</td>\n",
       "    </tr>\n",
       "    <tr>\n",
       "      <th>ford</th>\n",
       "      <td>2899.85</td>\n",
       "      <td>132392.56</td>\n",
       "    </tr>\n",
       "    <tr>\n",
       "      <th>peugeot</th>\n",
       "      <td>2883.18</td>\n",
       "      <td>131913.44</td>\n",
       "    </tr>\n",
       "    <tr>\n",
       "      <th>opel</th>\n",
       "      <td>2659.47</td>\n",
       "      <td>136177.94</td>\n",
       "    </tr>\n",
       "    <tr>\n",
       "      <th>fiat</th>\n",
       "      <td>2298.78</td>\n",
       "      <td>127710.73</td>\n",
       "    </tr>\n",
       "    <tr>\n",
       "      <th>renault</th>\n",
       "      <td>2121.19</td>\n",
       "      <td>134640.76</td>\n",
       "    </tr>\n",
       "  </tbody>\n",
       "</table>\n",
       "</div>"
      ],
      "text/plain": [
       "               mean_price  mean_mileage\n",
       "audi              6485.09     140946.51\n",
       "bmw               6375.59     140656.14\n",
       "mercedes_benz     6047.74     140090.53\n",
       "skoda             5394.73     124486.20\n",
       "hyundai           4623.29     118201.97\n",
       "toyota            4456.53     124791.27\n",
       "volkswagen        4455.80     137216.36\n",
       "nissan            4089.07     127114.78\n",
       "seat              3684.29     130161.50\n",
       "mazda             3458.08     132604.65\n",
       "citroen           3296.90     127316.87\n",
       "smart             3194.48     109548.61\n",
       "ford              2899.85     132392.56\n",
       "peugeot           2883.18     131913.44\n",
       "opel              2659.47     136177.94\n",
       "fiat              2298.78     127710.73\n",
       "renault           2121.19     134640.76"
      ]
     },
     "execution_count": 49,
     "metadata": {},
     "output_type": "execute_result"
    }
   ],
   "source": [
    "df = pd.DataFrame(bmp_series, columns=[\"mean_price\"])\n",
    "df = df.assign(mean_mileage = lambda x: bmm_series)\n",
    "df.sort_values(by=\"mean_price\", ascending=False)"
   ]
  },
  {
   "cell_type": "markdown",
   "metadata": {},
   "source": [
    "There's a small trend in expensive cars having a higher mean mileage with the three most expensive ones being also the ones with the highest mileage in the same exact order. It's also interesting that the five brands with the highest mean mileages are German brands."
   ]
  },
  {
   "cell_type": "code",
   "execution_count": 56,
   "metadata": {
    "collapsed": false
   },
   "outputs": [
    {
     "data": {
      "text/plain": [
       "array(['bus', 'limousine', 'kleinwagen', 'kombi', nan, 'suv', 'cabrio',\n",
       "       'coupe', 'andere'], dtype=object)"
      ]
     },
     "execution_count": 56,
     "metadata": {},
     "output_type": "execute_result"
    }
   ],
   "source": [
    "# Here we'll create a dictionary to map the categorical data on vehicle_type\n",
    "\n",
    "types_dict = {}\n",
    "\n",
    "v_types = autos[\"vehicle_type\"].unique()\n",
    "v_types[2] = \"small_car\"\n",
    "v_types[1] = \"limo\"\n",
    "v_types[3] = \"station_wagon\"\n",
    "v_types[6] = \"convertible\"\n",
    "v_types[8] = \"other\"\n",
    "\n",
    "for a in range(len(types)):\n",
    "    types_dict[autos[\"vehicle_type\"].unique()[a]] = v_types[a]"
   ]
  },
  {
   "cell_type": "code",
   "execution_count": 71,
   "metadata": {
    "collapsed": false
   },
   "outputs": [
    {
     "data": {
      "text/plain": [
       "array(['andere', '7er', 'golf', 'fortwo', 'focus', 'voyager', 'arosa',\n",
       "       'megane', nan, 'a3', 'clio', 'vectra', '3er', 'a4', 'polo',\n",
       "       'cooper', 'e_klasse', 'c_klasse', 'corsa', '5er', 'mondeo',\n",
       "       'altea', 'a1', 'twingo', 'a_klasse', '3_reihe', 's_klasse',\n",
       "       'passat', 'primera', 'wrangler', 'sandero', 'a6', 'astra', 'v40',\n",
       "       'ibiza', 'micra', '1er', 'yaris', 'colt', '6_reihe', '5_reihe',\n",
       "       'corolla', 'transporter', 'punto', 'vito', 'cordoba', 'galaxy',\n",
       "       '100', '2_reihe', 'octavia', 'm_klasse', 'lupo', 'fiesta',\n",
       "       'superb', 'meriva', 'laguna', '1_reihe', 'touareg', 'seicento',\n",
       "       'touran', 'avensis', 'ducato', 'tigra', 'carnival', 'signum',\n",
       "       'sharan', 'zafira', 'ka', 'rav', 'a5', 'beetle', 'c_reihe',\n",
       "       'phaeton', 'sl', 'insignia', 'civic', '80', 'mx_reihe', 'omega',\n",
       "       'x_reihe', 'sorento', 'z_reihe', 'berlingo', 'scirocco', 'clk',\n",
       "       's_max', 'kalos', 'cx_reihe', 'grand', 'swift', 'vivaro',\n",
       "       'sprinter', 'almera', 'viano', 'picanto', 'espace', 'scenic',\n",
       "       'bora', 'fox', 'leon', 'transit', 'tucson', 'tt', 'qashqai',\n",
       "       'jazz', 'nubira', 'v70', 'duster', 'stilo', 'justy', 'kangoo',\n",
       "       'fabia', 'cl', 'matiz', 'freelander', 'one', 'forester', 's_type',\n",
       "       'bravo', '500', '156', 'cr_reihe', 'toledo', 'panda', 'a8', 'ceed',\n",
       "       'caddy', 'aygo', 'i_reihe', 'exeo', 'c1', 'doblo', 'impreza',\n",
       "       '147', 'agila', '145', 'c3', 'roomster', 'auris', '601', 'eos',\n",
       "       'aveo', 'slk', 'terios', 'm_reihe', 'fusion', 'c4', 'materia',\n",
       "       'v50', 'combo', '900', 'yeti', '850', 'outlander', 'rio', 'escort',\n",
       "       'c2', 'jimny', 'c_max', 'forfour', 'a2', 'spider', 'b_klasse',\n",
       "       'carisma', 'cayenne', 'r19', 'cc', 'logan', 'xc_reihe', 'verso',\n",
       "       'v_klasse', 'jetta', 'up', 'c5', 'getz', 'navara', 'x_type',\n",
       "       'clubman', 's60', '4_reihe', 'cherokee', 'q7', 'roadster',\n",
       "       'captiva', 'cuore', 'ptcruiser', 'kuga', 'x_trail', 'boxster',\n",
       "       'ypsilon', 'note', 'lancer', 'pajero', 'rx_reihe', 'modus',\n",
       "       'sportage', 'calibra', 'sirion', 'glk', 'gl', 'tiguan', 'santa',\n",
       "       '300c', 'antara', 'accord', 'crossfire', '159', 'lybra', 'q5',\n",
       "       'niva', 'galant', 'legacy', 'range_rover', 'delta', 'juke',\n",
       "       'spark', 'mustang', 'lanos', 'v60', 'kadett', 'alhambra', 'citigo',\n",
       "       '6er', 'mii', 'discovery', 'range_rover_sport', 'defender', '911',\n",
       "       'move', 'croma', 'kaefer', 'samara', 'kappa', 'q3', 'g_klasse',\n",
       "       'lodgy', '9000', '90', 'charade', 'i3', 'range_rover_evoque',\n",
       "       'b_max'], dtype=object)"
      ]
     },
     "execution_count": 71,
     "metadata": {},
     "output_type": "execute_result"
    }
   ],
   "source": [
    "autos[\"model\"].unique()"
   ]
  },
  {
   "cell_type": "code",
   "execution_count": 74,
   "metadata": {
    "collapsed": false
   },
   "outputs": [
    {
     "data": {
      "text/plain": [
       "0          other\n",
       "1            7er\n",
       "2           golf\n",
       "3         fortwo\n",
       "4          focus\n",
       "5        voyager\n",
       "6           golf\n",
       "7           golf\n",
       "8          arosa\n",
       "9         megane\n",
       "11           nan\n",
       "12        fortwo\n",
       "13            a3\n",
       "14          clio\n",
       "16        vectra\n",
       "18           3er\n",
       "19         other\n",
       "20            a4\n",
       "23           nan\n",
       "26          polo\n",
       "28        cooper\n",
       "29       e_class\n",
       "31       c_class\n",
       "32         corsa\n",
       "33            a3\n",
       "34           5er\n",
       "35        mondeo\n",
       "36        mondeo\n",
       "37         altea\n",
       "38          golf\n",
       "          ...   \n",
       "49962      other\n",
       "49963    b_class\n",
       "49964         a4\n",
       "49965      astra\n",
       "49966         c1\n",
       "49967     passat\n",
       "49969    x_trail\n",
       "49970         c4\n",
       "49971       lupo\n",
       "49972       vito\n",
       "49973        slk\n",
       "49975       jazz\n",
       "49976         80\n",
       "49977    c_class\n",
       "49978    e_class\n",
       "49979       polo\n",
       "49980     escort\n",
       "49981      astra\n",
       "49982      fabia\n",
       "49983      focus\n",
       "49985        nan\n",
       "49986       300c\n",
       "49988        3er\n",
       "49989       polo\n",
       "49991     twingo\n",
       "49992      other\n",
       "49993        nan\n",
       "49994         a6\n",
       "49996      astra\n",
       "49999     vectra\n",
       "Name: model, Length: 40349, dtype: object"
      ]
     },
     "execution_count": 74,
     "metadata": {},
     "output_type": "execute_result"
    }
   ],
   "source": [
    "# Here we'll translate some german words from the model column using a function\n",
    "def clean_model(string):\n",
    "    string = str(string)\n",
    "    string = string.replace(\"andere\", \"other\")\n",
    "    string = string.replace(\"klasse\", \"class\")\n",
    "    string = string.replace(\"reihe\", \"line\")\n",
    "    return string\n",
    "\n",
    "new_models = []\n",
    "autos[\"model\"].unique()\n",
    "new_prices = []\n",
    "for c in autos[\"model\"]:\n",
    "    temp = clean_model(c)\n",
    "    new_models.append(temp)\n",
    "    \n",
    "autos[\"model\"] = new_models\n",
    "autos[\"model\"]"
   ]
  },
  {
   "cell_type": "code",
   "execution_count": 80,
   "metadata": {
    "collapsed": false
   },
   "outputs": [
    {
     "data": {
      "text/plain": [
       "volkswagen        21.36\n",
       "opel              11.44\n",
       "bmw               10.99\n",
       "mercedes_benz      9.03\n",
       "audi               8.34\n",
       "ford               7.27\n",
       "renault            5.07\n",
       "peugeot            3.26\n",
       "fiat               2.59\n",
       "seat               1.92\n",
       "skoda              1.62\n",
       "mazda              1.60\n",
       "nissan             1.58\n",
       "citroen            1.45\n",
       "smart              1.43\n",
       "toyota             1.31\n",
       "hyundai            1.01\n",
       "volvo              0.95\n",
       "mitsubishi         0.87\n",
       "honda              0.82\n",
       "mini               0.79\n",
       "kia                0.70\n",
       "alfa_romeo         0.69\n",
       "suzuki             0.59\n",
       "sonstige_autos     0.49\n",
       "chevrolet          0.48\n",
       "chrysler           0.38\n",
       "daihatsu           0.25\n",
       "subaru             0.22\n",
       "dacia              0.21\n",
       "jeep               0.21\n",
       "saab               0.18\n",
       "daewoo             0.16\n",
       "porsche            0.16\n",
       "land_rover         0.16\n",
       "rover              0.15\n",
       "jaguar             0.14\n",
       "lancia             0.10\n",
       "lada               0.05\n",
       "trabant            0.00\n",
       "Name: brand, dtype: float64"
      ]
     },
     "execution_count": 80,
     "metadata": {},
     "output_type": "execute_result"
    }
   ],
   "source": [
    "round(autos[\"brand\"].value_counts(normalize=True)*100,2)"
   ]
  },
  {
   "cell_type": "code",
   "execution_count": 81,
   "metadata": {
    "collapsed": false
   },
   "outputs": [
    {
     "data": {
      "text/plain": [
       "golf                  8.03\n",
       "other                 6.07\n",
       "3er                   5.89\n",
       "nan                   4.20\n",
       "corsa                 3.69\n",
       "polo                  3.65\n",
       "astra                 3.18\n",
       "passat                3.15\n",
       "a4                    2.87\n",
       "c_class               2.57\n",
       "5er                   2.47\n",
       "e_class               1.94\n",
       "a3                    1.80\n",
       "a6                    1.78\n",
       "focus                 1.76\n",
       "fiesta                1.61\n",
       "twingo                1.43\n",
       "2_line                1.42\n",
       "vectra                1.29\n",
       "transporter           1.27\n",
       "a_class               1.23\n",
       "fortwo                1.17\n",
       "mondeo                1.15\n",
       "3_line                1.15\n",
       "1er                   1.10\n",
       "clio                  1.09\n",
       "touran                0.99\n",
       "punto                 0.98\n",
       "zafira                0.94\n",
       "ka                    0.82\n",
       "                      ... \n",
       "g_class               0.02\n",
       "cx_line               0.02\n",
       "911                   0.02\n",
       "move                  0.02\n",
       "nubira                0.02\n",
       "crossfire             0.01\n",
       "exeo                  0.01\n",
       "range_rover           0.01\n",
       "range_rover_sport     0.01\n",
       "citigo                0.01\n",
       "materia               0.01\n",
       "kaefer                0.01\n",
       "glk                   0.01\n",
       "9000                  0.01\n",
       "samara                0.01\n",
       "delta                 0.01\n",
       "145                   0.01\n",
       "croma                 0.01\n",
       "charade               0.01\n",
       "v60                   0.00\n",
       "lodgy                 0.00\n",
       "q3                    0.00\n",
       "kappa                 0.00\n",
       "mii                   0.00\n",
       "90                    0.00\n",
       "b_max                 0.00\n",
       "601                   0.00\n",
       "gl                    0.00\n",
       "i3                    0.00\n",
       "range_rover_evoque    0.00\n",
       "Name: model, Length: 242, dtype: float64"
      ]
     },
     "execution_count": 81,
     "metadata": {},
     "output_type": "execute_result"
    }
   ],
   "source": [
    "round(autos[\"model\"].value_counts(normalize=True)*100,2)"
   ]
  },
  {
   "cell_type": "code",
   "execution_count": 93,
   "metadata": {
    "collapsed": false
   },
   "outputs": [],
   "source": [
    "brand_model = []\n",
    "for a in autos[\"brand\"].unique():\n",
    "    for b in autos[autos[\"brand\"] == a][\"model\"]:\n",
    "        brand_model.append(a + \" \" + b)"
   ]
  },
  {
   "cell_type": "code",
   "execution_count": 107,
   "metadata": {
    "collapsed": false
   },
   "outputs": [],
   "source": [
    "autos[\"brand_model\"] = brand_model"
   ]
  },
  {
   "cell_type": "code",
   "execution_count": 109,
   "metadata": {
    "collapsed": false
   },
   "outputs": [
    {
     "data": {
      "text/plain": [
       "volkswagen golf                  8.03\n",
       "bmw 3er                          5.89\n",
       "opel corsa                       3.69\n",
       "volkswagen polo                  3.65\n",
       "opel astra                       3.18\n",
       "volkswagen passat                3.15\n",
       "audi a4                          2.87\n",
       "mercedes_benz c_class            2.57\n",
       "bmw 5er                          2.47\n",
       "mercedes_benz e_class            1.94\n",
       "audi a3                          1.80\n",
       "audi a6                          1.78\n",
       "ford focus                       1.76\n",
       "ford fiesta                      1.61\n",
       "renault twingo                   1.43\n",
       "peugeot 2_line                   1.42\n",
       "opel vectra                      1.29\n",
       "volkswagen transporter           1.27\n",
       "mercedes_benz a_class            1.23\n",
       "smart fortwo                     1.17\n",
       "ford mondeo                      1.15\n",
       "bmw 1er                          1.10\n",
       "renault clio                     1.09\n",
       "volkswagen touran                0.99\n",
       "fiat punto                       0.98\n",
       "opel zafira                      0.94\n",
       "ford ka                          0.82\n",
       "volkswagen nan                   0.80\n",
       "renault megane                   0.79\n",
       "volkswagen lupo                  0.77\n",
       "                                 ... \n",
       "saab nan                         0.01\n",
       "lada samara                      0.01\n",
       "lancia nan                       0.01\n",
       "fiat croma                       0.01\n",
       "daihatsu nan                     0.01\n",
       "rover nan                        0.01\n",
       "lancia delta                     0.01\n",
       "daewoo nan                       0.01\n",
       "audi q3                          0.00\n",
       "rover freelander                 0.00\n",
       "volvo v60                        0.00\n",
       "dacia lodgy                      0.00\n",
       "seat mii                         0.00\n",
       "lancia kappa                     0.00\n",
       "porsche nan                      0.00\n",
       "rover discovery                  0.00\n",
       "ford b_max                       0.00\n",
       "jaguar nan                       0.00\n",
       "land_rover nan                   0.00\n",
       "dacia other                      0.00\n",
       "lada nan                         0.00\n",
       "land_rover range_rover_evoque    0.00\n",
       "mercedes_benz gl                 0.00\n",
       "bmw i3                           0.00\n",
       "dacia nan                        0.00\n",
       "trabant 601                      0.00\n",
       "trabant nan                      0.00\n",
       "lada other                       0.00\n",
       "audi 90                          0.00\n",
       "mini nan                         0.00\n",
       "Name: brand_model, Length: 325, dtype: float64"
      ]
     },
     "execution_count": 109,
     "metadata": {},
     "output_type": "execute_result"
    }
   ],
   "source": [
    "round(autos[\"brand_model\"].value_counts(normalize=True)*100, 2)\n"
   ]
  },
  {
   "cell_type": "code",
   "execution_count": null,
   "metadata": {
    "collapsed": true
   },
   "outputs": [],
   "source": []
  }
 ],
 "metadata": {
  "kernelspec": {
   "display_name": "Python 3",
   "language": "python",
   "name": "python3"
  },
  "language_info": {
   "codemirror_mode": {
    "name": "ipython",
    "version": 3
   },
   "file_extension": ".py",
   "mimetype": "text/x-python",
   "name": "python",
   "nbconvert_exporter": "python",
   "pygments_lexer": "ipython3",
   "version": "3.4.3"
  }
 },
 "nbformat": 4,
 "nbformat_minor": 2
}
