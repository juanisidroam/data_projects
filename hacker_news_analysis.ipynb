{
 "cells": [
  {
   "cell_type": "markdown",
   "metadata": {
    "collapsed": true
   },
   "source": [
    "#Hacker News Analysis#\n",
    "\n",
    "This is a project about **Hacker News** and trying to find which type of posts is more engaging and if the time when it's posted affects the engagement."
   ]
  },
  {
   "cell_type": "code",
   "execution_count": 23,
   "metadata": {
    "collapsed": false
   },
   "outputs": [],
   "source": [
    "opened_file = open(\"hacker_news.csv\")\n",
    "from csv import reader as r\n",
    "read_file = r(opened_file)\n",
    "hn = list(read_file)"
   ]
  },
  {
   "cell_type": "code",
   "execution_count": 24,
   "metadata": {
    "collapsed": false
   },
   "outputs": [],
   "source": [
    "temp_head = hn[0]\n",
    "headers = {}\n",
    "index = 0\n",
    "for a in temp_head:\n",
    "    headers[index] = a\n",
    "    index += 1\n",
    "headers\n",
    "hn = hn[1:]"
   ]
  },
  {
   "cell_type": "code",
   "execution_count": 25,
   "metadata": {
    "collapsed": false
   },
   "outputs": [
    {
     "data": {
      "text/plain": [
       "{0: 'id',\n",
       " 1: 'title',\n",
       " 2: 'url',\n",
       " 3: 'num_points',\n",
       " 4: 'num_comments',\n",
       " 5: 'author',\n",
       " 6: 'created_at'}"
      ]
     },
     "execution_count": 25,
     "metadata": {},
     "output_type": "execute_result"
    }
   ],
   "source": [
    "headers    "
   ]
  },
  {
   "cell_type": "code",
   "execution_count": 15,
   "metadata": {
    "collapsed": false
   },
   "outputs": [
    {
     "name": "stdout",
     "output_type": "stream",
     "text": [
      "20100 1744 1162 17194\n"
     ]
    }
   ],
   "source": [
    "ask_posts = []\n",
    "show_posts = []\n",
    "other_posts = []\n",
    "for row in hn:\n",
    "    title = row[1].lower()\n",
    "    if title.startswith(\"ask hn\") == True:\n",
    "        ask_posts.append(row)\n",
    "    elif title.startswith(\"show hn\") == True:\n",
    "        show_posts.append(row)\n",
    "    else:\n",
    "        other_posts.append(row)\n",
    "\n",
    "print(len(hn), len(ask_posts), len(show_posts), len(other_posts))\n",
    "        "
   ]
  },
  {
   "cell_type": "code",
   "execution_count": 27,
   "metadata": {
    "collapsed": false
   },
   "outputs": [
    {
     "name": "stdout",
     "output_type": "stream",
     "text": [
      "24483 14.04\n"
     ]
    }
   ],
   "source": [
    "total_ask_comments = 0\n",
    "for row in ask_posts:\n",
    "    amount = int(row[4])\n",
    "    total_ask_comments += amount\n",
    "    \n",
    "avg_ask_comments = round(total_ask_comments / len(ask_posts), 2)\n",
    "print(total_ask_comments, avg_ask_comments)\n",
    "    "
   ]
  },
  {
   "cell_type": "code",
   "execution_count": 29,
   "metadata": {
    "collapsed": false
   },
   "outputs": [
    {
     "name": "stdout",
     "output_type": "stream",
     "text": [
      "11988 10.32\n"
     ]
    }
   ],
   "source": [
    "total_show_comments = 0\n",
    "for row in show_posts:\n",
    "    amount = int(row[4])\n",
    "    total_show_comments += amount\n",
    "    \n",
    "avg_show_comments = round(total_show_comments / len(show_posts), 2)\n",
    "print(total_show_comments, avg_show_comments)"
   ]
  },
  {
   "cell_type": "markdown",
   "metadata": {},
   "source": [
    "Ask we can see here, **Ask HN** type of posts receive a higher average of comments than those which belong to the **Show HN** category. It probably means the community is more interested in answering questions than commenting on things, plus the very fact questions tend to generate more conversation in general."
   ]
  },
  {
   "cell_type": "code",
   "execution_count": 31,
   "metadata": {
    "collapsed": false
   },
   "outputs": [
    {
     "data": {
      "text/plain": [
       "{0: 'id',\n",
       " 1: 'title',\n",
       " 2: 'url',\n",
       " 3: 'num_points',\n",
       " 4: 'num_comments',\n",
       " 5: 'author',\n",
       " 6: 'created_at'}"
      ]
     },
     "execution_count": 31,
     "metadata": {},
     "output_type": "execute_result"
    }
   ],
   "source": [
    "headers"
   ]
  },
  {
   "cell_type": "code",
   "execution_count": 33,
   "metadata": {
    "collapsed": false
   },
   "outputs": [
    {
     "data": {
      "text/plain": [
       "['12296411',\n",
       " 'Ask HN: How to improve my personal website?',\n",
       " '',\n",
       " '2',\n",
       " '6',\n",
       " 'ahmedbaracat',\n",
       " '8/16/2016 9:55']"
      ]
     },
     "execution_count": 33,
     "metadata": {},
     "output_type": "execute_result"
    }
   ],
   "source": [
    "ask_posts[0]"
   ]
  },
  {
   "cell_type": "code",
   "execution_count": 35,
   "metadata": {
    "collapsed": true
   },
   "outputs": [],
   "source": [
    "import datetime as dt"
   ]
  },
  {
   "cell_type": "code",
   "execution_count": 65,
   "metadata": {
    "collapsed": true
   },
   "outputs": [],
   "source": [
    "result_list = []"
   ]
  },
  {
   "cell_type": "code",
   "execution_count": 66,
   "metadata": {
    "collapsed": false
   },
   "outputs": [],
   "source": [
    "for row in ask_posts:\n",
    "    created = row[6]\n",
    "    comments = int(row[4])\n",
    "    result_list.append([created, comments])"
   ]
  },
  {
   "cell_type": "code",
   "execution_count": 87,
   "metadata": {
    "collapsed": true
   },
   "outputs": [],
   "source": [
    "counts_by_hour = {}\n",
    "comments_by_hour = {}"
   ]
  },
  {
   "cell_type": "code",
   "execution_count": 88,
   "metadata": {
    "collapsed": false
   },
   "outputs": [],
   "source": [
    "for row in result_list:\n",
    "    date = dt.datetime.strptime(row[0], \"%m/%d/%Y %H:%M\")\n",
    "    hour = dt.datetime.strftime(date, \"%-H\")\n",
    "    if hour not in counts_by_hour:\n",
    "        counts_by_hour[hour] = 1\n",
    "        comments_by_hour[hour] = row[1]\n",
    "    else:\n",
    "        counts_by_hour[hour] += 1\n",
    "        comments_by_hour[hour] += row[1]\n",
    "\n",
    "        "
   ]
  },
  {
   "cell_type": "code",
   "execution_count": 107,
   "metadata": {
    "collapsed": false
   },
   "outputs": [],
   "source": []
  },
  {
   "cell_type": "code",
   "execution_count": 108,
   "metadata": {
    "collapsed": true
   },
   "outputs": [],
   "source": []
  },
  {
   "cell_type": "code",
   "execution_count": 94,
   "metadata": {
    "collapsed": false
   },
   "outputs": [],
   "source": [
    "avg_by_hour = []\n",
    "for row in counts_by_hour:\n",
    "    avg_by_hour.append([row, round(comments_by_hour[row]/counts_by_hour[row],2)])"
   ]
  },
  {
   "cell_type": "code",
   "execution_count": 104,
   "metadata": {
    "collapsed": false
   },
   "outputs": [
    {
     "name": "stdout",
     "output_type": "stream",
     "text": [
      "Top 5 Hours for Ask Post Comments\n",
      "15:00 38.59  average comments per post\n",
      "2:00 23.81  average comments per post\n",
      "20:00 21.52  average comments per post\n",
      "16:00 16.8  average comments per post\n",
      "21:00 16.01  average comments per post\n"
     ]
    }
   ],
   "source": [
    "swap_avg_by_hour = []\n",
    "for row in avg_by_hour:\n",
    "    swap_avg_by_hour.append([row[1], row[0]])\n",
    "sorted_swap = sorted(swap_avg_by_hour, reverse=True)\n",
    "print(\"Top 5 Hours for Ask Post Comments\")\n",
    "for row in sorted_swap[:5]:\n",
    "    hour = dt.datetime.strptime(row[1], \"%H\")\n",
    "    hour = dt.datetime.strftime(hour, \"%-H:%M\")\n",
    "    print(hour, row[0], \" average comments Ask HN per post\")"
   ]
  },
  {
   "cell_type": "markdown",
   "metadata": {},
   "source": [
    "As we see here, if we want to attain the highest amount of comments, the best hours to create **Ask HN** posts are 3pm, 2am, 8pm, 4pm and 9pm, in that order. 3pm is particularly effective, as it's at around 15 comments higher than the next best hour."
   ]
  },
  {
   "cell_type": "code",
   "execution_count": null,
   "metadata": {
    "collapsed": true
   },
   "outputs": [],
   "source": []
  },
  {
   "cell_type": "code",
   "execution_count": 114,
   "metadata": {
    "collapsed": true
   },
   "outputs": [],
   "source": [
    "show_results = []\n",
    "for row in show_posts:\n",
    "    created = row[6]\n",
    "    comments = int(row[4])\n",
    "    show_results.append([created, comments])"
   ]
  },
  {
   "cell_type": "code",
   "execution_count": 115,
   "metadata": {
    "collapsed": true
   },
   "outputs": [],
   "source": [
    "show_counts_by_hour = {}\n",
    "show_comments_by_hour = {}\n",
    "\n",
    "for row in show_results:\n",
    "    date = dt.datetime.strptime(row[0], \"%m/%d/%Y %H:%M\")\n",
    "    hour = dt.datetime.strftime(date, \"%-H\")\n",
    "    if hour not in show_counts_by_hour:\n",
    "        show_counts_by_hour[hour] = 1\n",
    "        show_comments_by_hour[hour] = row[1]\n",
    "    else:\n",
    "        show_counts_by_hour[hour] += 1\n",
    "        show_comments_by_hour[hour] += row[1]"
   ]
  },
  {
   "cell_type": "code",
   "execution_count": 116,
   "metadata": {
    "collapsed": true
   },
   "outputs": [],
   "source": [
    "show_avg_by_hour = []\n",
    "for row in show_counts_by_hour:\n",
    "    show_avg_by_hour.append([row, round(show_comments_by_hour[row]/show_counts_by_hour[row],2)])\n"
   ]
  },
  {
   "cell_type": "code",
   "execution_count": 117,
   "metadata": {
    "collapsed": false
   },
   "outputs": [
    {
     "name": "stdout",
     "output_type": "stream",
     "text": [
      "Top 5 Hours for Ask Post Comments\n",
      "18:00 15.77  average comments per Show HN post\n",
      "0:00 15.71  average comments per Show HN post\n",
      "14:00 13.44  average comments per Show HN post\n",
      "23:00 12.42  average comments per Show HN post\n",
      "22:00 12.39  average comments per Show HN post\n"
     ]
    }
   ],
   "source": [
    "show_swap_avg_by_hour = []\n",
    "for row in show_avg_by_hour:\n",
    "    show_swap_avg_by_hour.append([row[1], row[0]])\n",
    "show_sorted_swap = sorted(show_swap_avg_by_hour, reverse=True)\n",
    "print(\"Top 5 Hours for Ask Post Comments\")\n",
    "for row in show_sorted_swap[:5]:\n",
    "    hour = dt.datetime.strptime(row[1], \"%H\")\n",
    "    hour = dt.datetime.strftime(hour, \"%-H:%M\")\n",
    "    print(hour, row[0], \" average comments per Show HN post\")"
   ]
  },
  {
   "cell_type": "markdown",
   "metadata": {},
   "source": [
    "As we see here, if we want to attain the highest amount of comments, the best hours to create **Show HN** posts are 6pm, 12am, 2pm, 11pm and 10pm, in that order. We see that 10pm-12am is the absolute best time to post since its a continuous stretch of hours in the Top 5 list."
   ]
  },
  {
   "cell_type": "code",
   "execution_count": 124,
   "metadata": {
    "collapsed": false
   },
   "outputs": [
    {
     "name": "stdout",
     "output_type": "stream",
     "text": [
      "The Ask HN comment avg is 14.04 and the Show HN comment avg is 10.32 , while the Other Post comment avg is 26.87\n"
     ]
    }
   ],
   "source": [
    "ask_total_comms = 0\n",
    "for row in ask_posts:\n",
    "    ask_total_comms += int(row[4])\n",
    "\n",
    "ask_avg = round(ask_total_comms / len(ask_posts), 2)\n",
    "        \n",
    "show_total_comms = 0\n",
    "for row in show_posts:\n",
    "    show_total_comms += int(row[4])\n",
    "\n",
    "show_avg = round(show_total_comms / len(show_posts), 2)\n",
    "\n",
    "other_total_comms = 0\n",
    "for row in other_posts:\n",
    "    other_total_comms += int(row[4])\n",
    "\n",
    "other_avg = round(other_total_comms / len(other_posts), 2)\n",
    "\n",
    "\n",
    "print(\"The Ask HN comment avg is\", ask_avg, \"and the Show HN comment avg is\", show_avg, \", while the Other Post comment avg is\", other_avg)"
   ]
  },
  {
   "cell_type": "code",
   "execution_count": 119,
   "metadata": {
    "collapsed": false
   },
   "outputs": [
    {
     "data": {
      "text/plain": [
       "{0: 'id',\n",
       " 1: 'title',\n",
       " 2: 'url',\n",
       " 3: 'num_points',\n",
       " 4: 'num_comments',\n",
       " 5: 'author',\n",
       " 6: 'created_at'}"
      ]
     },
     "execution_count": 119,
     "metadata": {},
     "output_type": "execute_result"
    }
   ],
   "source": [
    "headers"
   ]
  },
  {
   "cell_type": "code",
   "execution_count": null,
   "metadata": {
    "collapsed": true
   },
   "outputs": [],
   "source": []
  }
 ],
 "metadata": {
  "kernelspec": {
   "display_name": "Python 3",
   "language": "python",
   "name": "python3"
  },
  "language_info": {
   "codemirror_mode": {
    "name": "ipython",
    "version": 3
   },
   "file_extension": ".py",
   "mimetype": "text/x-python",
   "name": "python",
   "nbconvert_exporter": "python",
   "pygments_lexer": "ipython3",
   "version": "3.4.3"
  }
 },
 "nbformat": 4,
 "nbformat_minor": 2
}
