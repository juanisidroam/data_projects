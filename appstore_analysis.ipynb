{
 "cells": [
  {
   "cell_type": "markdown",
   "metadata": {},
   "source": [
    "# App Market Analysis\n",
    "\n",
    "We're tyring to find insights that would better serve our dev and marketing team figure out the best road to take with our apps.\n",
    "\n",
    "The goal is to optimize resources by deriving knowledge from these data sets."
   ]
  },
  {
   "cell_type": "code",
   "execution_count": 4,
   "metadata": {
    "collapsed": false
   },
   "outputs": [],
   "source": [
    "def explore_data(dataset, start, end, rows_and_columns=False):\n",
    "    dataset_slice = dataset[start:end]    \n",
    "    for row in dataset_slice:\n",
    "        print(row)\n",
    "        print('\\n') # adds a new (empty) line after each row\n",
    "\n",
    "    if rows_and_columns:\n",
    "        print('Number of rows:', len(dataset))\n",
    "        print('Number of columns:', len(dataset[0]))\n",
    "        \n",
    "from csv import reader\n",
    "data1 = open('AppleStore.csv')\n",
    "data2 = open('googleplaystore.csv')\n",
    "read_file1 = reader(data1)\n",
    "read_file2 = reader(data2)\n",
    "appStore = list(read_file1)\n",
    "gStore = list(read_file2)"
   ]
  },
  {
   "cell_type": "code",
   "execution_count": 5,
   "metadata": {
    "collapsed": false
   },
   "outputs": [
    {
     "name": "stdout",
     "output_type": "stream",
     "text": [
      "['284882215', 'Facebook', '389879808', 'USD', '0.0', '2974676', '212', '3.5', '3.5', '95.0', '4+', 'Social Networking', '37', '1', '29', '1']\n",
      "\n",
      "\n",
      "['389801252', 'Instagram', '113954816', 'USD', '0.0', '2161558', '1289', '4.5', '4.0', '10.23', '12+', 'Photo & Video', '37', '0', '29', '1']\n",
      "\n",
      "\n",
      "['529479190', 'Clash of Clans', '116476928', 'USD', '0.0', '2130805', '579', '4.5', '4.5', '9.24.12', '9+', 'Games', '38', '5', '18', '1']\n",
      "\n",
      "\n",
      "['420009108', 'Temple Run', '65921024', 'USD', '0.0', '1724546', '3842', '4.5', '4.0', '1.6.2', '9+', 'Games', '40', '5', '1', '1']\n",
      "\n",
      "\n",
      "['284035177', 'Pandora - Music & Radio', '130242560', 'USD', '0.0', '1126879', '3594', '4.0', '4.5', '8.4.1', '12+', 'Music', '37', '4', '1', '1']\n",
      "\n",
      "\n",
      "['429047995', 'Pinterest', '74778624', 'USD', '0.0', '1061624', '1814', '4.5', '4.0', '6.26', '12+', 'Social Networking', '37', '5', '27', '1']\n",
      "\n",
      "\n",
      "['282935706', 'Bible', '92774400', 'USD', '0.0', '985920', '5320', '4.5', '5.0', '7.5.1', '4+', 'Reference', '37', '5', '45', '1']\n",
      "\n",
      "\n",
      "['553834731', 'Candy Crush Saga', '222846976', 'USD', '0.0', '961794', '2453', '4.5', '4.5', '1.101.0', '4+', 'Games', '43', '5', '24', '1']\n",
      "\n",
      "\n",
      "['324684580', 'Spotify Music', '132510720', 'USD', '0.0', '878563', '8253', '4.5', '4.5', '8.4.3', '12+', 'Music', '37', '5', '18', '1']\n",
      "\n",
      "\n",
      "['343200656', 'Angry Birds', '175966208', 'USD', '0.0', '824451', '107', '4.5', '3.0', '7.4.0', '4+', 'Games', '38', '0', '10', '1']\n",
      "\n",
      "\n",
      "Number of rows: 7197\n",
      "Number of columns: 16\n",
      "['Photo Editor & Candy Camera & Grid & ScrapBook', 'ART_AND_DESIGN', '4.1', '159', '19M', '10,000+', 'Free', '0', 'Everyone', 'Art & Design', 'January 7, 2018', '1.0.0', '4.0.3 and up']\n",
      "\n",
      "\n",
      "['Coloring book moana', 'ART_AND_DESIGN', '3.9', '967', '14M', '500,000+', 'Free', '0', 'Everyone', 'Art & Design;Pretend Play', 'January 15, 2018', '2.0.0', '4.0.3 and up']\n",
      "\n",
      "\n",
      "['U Launcher Lite – FREE Live Cool Themes, Hide Apps', 'ART_AND_DESIGN', '4.7', '87510', '8.7M', '5,000,000+', 'Free', '0', 'Everyone', 'Art & Design', 'August 1, 2018', '1.2.4', '4.0.3 and up']\n",
      "\n",
      "\n",
      "['Sketch - Draw & Paint', 'ART_AND_DESIGN', '4.5', '215644', '25M', '50,000,000+', 'Free', '0', 'Teen', 'Art & Design', 'June 8, 2018', 'Varies with device', '4.2 and up']\n",
      "\n",
      "\n",
      "['Pixel Draw - Number Art Coloring Book', 'ART_AND_DESIGN', '4.3', '967', '2.8M', '100,000+', 'Free', '0', 'Everyone', 'Art & Design;Creativity', 'June 20, 2018', '1.1', '4.4 and up']\n",
      "\n",
      "\n",
      "['Paper flowers instructions', 'ART_AND_DESIGN', '4.4', '167', '5.6M', '50,000+', 'Free', '0', 'Everyone', 'Art & Design', 'March 26, 2017', '1.0', '2.3 and up']\n",
      "\n",
      "\n",
      "['Smoke Effect Photo Maker - Smoke Editor', 'ART_AND_DESIGN', '3.8', '178', '19M', '50,000+', 'Free', '0', 'Everyone', 'Art & Design', 'April 26, 2018', '1.1', '4.0.3 and up']\n",
      "\n",
      "\n",
      "['Infinite Painter', 'ART_AND_DESIGN', '4.1', '36815', '29M', '1,000,000+', 'Free', '0', 'Everyone', 'Art & Design', 'June 14, 2018', '6.1.61.1', '4.2 and up']\n",
      "\n",
      "\n",
      "['Garden Coloring Book', 'ART_AND_DESIGN', '4.4', '13791', '33M', '1,000,000+', 'Free', '0', 'Everyone', 'Art & Design', 'September 20, 2017', '2.9.2', '3.0 and up']\n",
      "\n",
      "\n",
      "['Kids Paint Free - Drawing Fun', 'ART_AND_DESIGN', '4.7', '121', '3.1M', '10,000+', 'Free', '0', 'Everyone', 'Art & Design;Creativity', 'July 3, 2018', '2.8', '4.0.3 and up']\n",
      "\n",
      "\n",
      "Number of rows: 10841\n",
      "Number of columns: 13\n"
     ]
    }
   ],
   "source": [
    "explore_data(appStore[1:], 0, 10, rows_and_columns=True)\n",
    "explore_data(gStore[1:], 0, 10, rows_and_columns=True)"
   ]
  },
  {
   "cell_type": "code",
   "execution_count": 6,
   "metadata": {
    "collapsed": false
   },
   "outputs": [
    {
     "name": "stdout",
     "output_type": "stream",
     "text": [
      "['id', 'track_name', 'size_bytes', 'currency', 'price', 'rating_count_tot', 'rating_count_ver', 'user_rating', 'user_rating_ver', 'ver', 'cont_rating', 'prime_genre', 'sup_devices.num', 'ipadSc_urls.num', 'lang.num', 'vpp_lic'] \n",
      " \n",
      " ['App', 'Category', 'Rating', 'Reviews', 'Size', 'Installs', 'Type', 'Price', 'Content Rating', 'Genres', 'Last Updated', 'Current Ver', 'Android Ver']\n"
     ]
    }
   ],
   "source": [
    "print(appStore[0], \"\\n\",\"\\n\", gStore[0])"
   ]
  },
  {
   "cell_type": "markdown",
   "metadata": {},
   "source": [
    "Here we have the names of the different columns. We think Size, Price, "
   ]
  },
  {
   "cell_type": "code",
   "execution_count": 7,
   "metadata": {
    "collapsed": false
   },
   "outputs": [],
   "source": [
    "# Here we extract the tags and index for each column\n",
    "\n",
    "def indexTags(dataset):\n",
    "    indexDict = {}\n",
    "    index = 0\n",
    "    for a in dataset[0]:\n",
    "        indexDict[index] = a\n",
    "        index += 1\n",
    "    return indexDict\n",
    "\n",
    "Acolumns = indexTags(appStore)\n",
    "Gcolumns = indexTags(gStore)"
   ]
  },
  {
   "cell_type": "code",
   "execution_count": 8,
   "metadata": {
    "collapsed": false
   },
   "outputs": [
    {
     "name": "stdout",
     "output_type": "stream",
     "text": [
      "AppStore Columns\n"
     ]
    },
    {
     "data": {
      "text/plain": [
       "{0: 'id',\n",
       " 1: 'track_name',\n",
       " 2: 'size_bytes',\n",
       " 3: 'currency',\n",
       " 4: 'price',\n",
       " 5: 'rating_count_tot',\n",
       " 6: 'rating_count_ver',\n",
       " 7: 'user_rating',\n",
       " 8: 'user_rating_ver',\n",
       " 9: 'ver',\n",
       " 10: 'cont_rating',\n",
       " 11: 'prime_genre',\n",
       " 12: 'sup_devices.num',\n",
       " 13: 'ipadSc_urls.num',\n",
       " 14: 'lang.num',\n",
       " 15: 'vpp_lic'}"
      ]
     },
     "execution_count": 8,
     "metadata": {},
     "output_type": "execute_result"
    }
   ],
   "source": [
    "print(\"AppStore Columns\")\n",
    "Acolumns"
   ]
  },
  {
   "cell_type": "code",
   "execution_count": 9,
   "metadata": {
    "collapsed": false
   },
   "outputs": [
    {
     "name": "stdout",
     "output_type": "stream",
     "text": [
      "GStore Columns\n"
     ]
    },
    {
     "data": {
      "text/plain": [
       "{0: 'App',\n",
       " 1: 'Category',\n",
       " 2: 'Rating',\n",
       " 3: 'Reviews',\n",
       " 4: 'Size',\n",
       " 5: 'Installs',\n",
       " 6: 'Type',\n",
       " 7: 'Price',\n",
       " 8: 'Content Rating',\n",
       " 9: 'Genres',\n",
       " 10: 'Last Updated',\n",
       " 11: 'Current Ver',\n",
       " 12: 'Android Ver'}"
      ]
     },
     "execution_count": 9,
     "metadata": {},
     "output_type": "execute_result"
    }
   ],
   "source": [
    "print(\"GStore Columns\")\n",
    "Gcolumns"
   ]
  },
  {
   "cell_type": "code",
   "execution_count": 10,
   "metadata": {
    "collapsed": false
   },
   "outputs": [
    {
     "name": "stdout",
     "output_type": "stream",
     "text": [
      "Number of duplicate apps:  1181\n",
      "\n",
      "\n",
      "Examples of duplicate apps:  ['Quick PDF Scanner + OCR FREE', 'Box', 'Google My Business', 'ZOOM Cloud Meetings', 'join.me - Simple Meetings', 'Box', 'Zenefits', 'Google Ads', 'Google My Business', 'Slack', 'FreshBooks Classic', 'Insightly CRM', 'QuickBooks Accounting: Invoicing & Expenses', 'HipChat - Chat Built for Teams', 'Xero Accounting Software']\n"
     ]
    }
   ],
   "source": [
    "duplicate_apps = []\n",
    "unique_apps = []\n",
    "\n",
    "for app in gStore:\n",
    "    name = app[0]\n",
    "    if name in unique_apps:\n",
    "        duplicate_apps.append(name)\n",
    "    else:\n",
    "        unique_apps.append(name)\n",
    "        \n",
    "print(\"Number of duplicate apps: \", len(duplicate_apps))\n",
    "print(\"\\n\")\n",
    "print(\"Examples of duplicate apps: \", duplicate_apps[:15])"
   ]
  },
  {
   "cell_type": "markdown",
   "metadata": {},
   "source": [
    "The Google App Store is plagued with duplicates, here are some of them:"
   ]
  },
  {
   "cell_type": "code",
   "execution_count": 11,
   "metadata": {
    "collapsed": false
   },
   "outputs": [
    {
     "name": "stdout",
     "output_type": "stream",
     "text": [
      "Examples of duplicate apps:  ['Quick PDF Scanner + OCR FREE', 'Box', 'Google My Business', 'ZOOM Cloud Meetings', 'join.me - Simple Meetings', 'Box', 'Zenefits', 'Google Ads', 'Google My Business', 'Slack', 'FreshBooks Classic', 'Insightly CRM', 'QuickBooks Accounting: Invoicing & Expenses', 'HipChat - Chat Built for Teams', 'Xero Accounting Software']\n"
     ]
    }
   ],
   "source": [
    "print(\"Examples of duplicate apps: \", duplicate_apps[:15])"
   ]
  },
  {
   "cell_type": "markdown",
   "metadata": {},
   "source": [
    "We won't be removing the duplicates *randomly*, but using a heuristic that allows us to find the latest version of the duplicates by checking the amount of reviews."
   ]
  },
  {
   "cell_type": "code",
   "execution_count": 12,
   "metadata": {
    "collapsed": false
   },
   "outputs": [],
   "source": [
    "uniqueAppsList = {}\n",
    "\n",
    "for app in gStore[1:]:\n",
    "    name = app[0]\n",
    "    reviews = app[3]\n",
    "    if name in uniqueAppsList and uniqueAppsList[name] <= reviews:\n",
    "            uniqueAppsList[name] = reviews\n",
    "    elif name not in uniqueAppsList:\n",
    "        uniqueAppsList[name] = reviews"
   ]
  },
  {
   "cell_type": "code",
   "execution_count": 13,
   "metadata": {
    "collapsed": false,
    "scrolled": true
   },
   "outputs": [
    {
     "data": {
      "text/plain": [
       "9660"
      ]
     },
     "execution_count": 13,
     "metadata": {},
     "output_type": "execute_result"
    }
   ],
   "source": [
    "androidClean = []\n",
    "alreadyAdded = []\n",
    "\n",
    "\n",
    "for app in gStore[1:]:\n",
    "    name = app[0]\n",
    "    reviews = app[3]\n",
    "    if (reviews == uniqueAppsList[name]) and (name not in alreadyAdded):\n",
    "        androidClean.append(app)\n",
    "        alreadyAdded.append(name)\n",
    "\n",
    "len(androidClean)"
   ]
  },
  {
   "cell_type": "code",
   "execution_count": 14,
   "metadata": {
    "collapsed": true
   },
   "outputs": [],
   "source": [
    "def is_english(string):\n",
    "    non_ascii = 0\n",
    "    \n",
    "    for character in string:\n",
    "        if ord(character) > 127:\n",
    "            non_ascii += 1\n",
    "    \n",
    "    if non_ascii > 3:\n",
    "        return False\n",
    "    else:\n",
    "        return True"
   ]
  },
  {
   "cell_type": "code",
   "execution_count": 15,
   "metadata": {
    "collapsed": false
   },
   "outputs": [
    {
     "name": "stdout",
     "output_type": "stream",
     "text": [
      "6183 9615\n"
     ]
    }
   ],
   "source": [
    "iosEng = []\n",
    "androEng = []\n",
    "\n",
    "for app in androidClean:\n",
    "    name = app[0]\n",
    "    if is_english(name):\n",
    "        androEng.append(app)\n",
    "\n",
    "for app in appStore[1:]:\n",
    "    name = app[1]\n",
    "    if is_english(name):\n",
    "        iosEng.append(app)     \n",
    "        \n",
    "print(len(iosEng), len(androEng))\n"
   ]
  },
  {
   "cell_type": "markdown",
   "metadata": {},
   "source": [
    "4 and 7 are the price columns"
   ]
  },
  {
   "cell_type": "code",
   "execution_count": 16,
   "metadata": {
    "collapsed": false
   },
   "outputs": [
    {
     "name": "stdout",
     "output_type": "stream",
     "text": [
      "3222 8862\n"
     ]
    }
   ],
   "source": [
    "ios = []\n",
    "andro = []\n",
    "\n",
    "for app in androEng:\n",
    "    price = app[7]\n",
    "    if price == \"0\":\n",
    "        andro.append(app)\n",
    "        \n",
    "for app in iosEng:\n",
    "    price = app[4]\n",
    "    if price == \"0.0\":\n",
    "        ios.append(app)\n",
    "        \n",
    "print(len(ios), len(andro))\n",
    "        "
   ]
  },
  {
   "cell_type": "markdown",
   "metadata": {},
   "source": [
    "We need to find apps that are successful in both stores because we want to minimize costs and maximize revenue.\n",
    "\n",
    "We'll focus on genre, to find the most successful ones. Genre row for iOS is 11 and for Android is 1 for Category, and 9 for Genre."
   ]
  },
  {
   "cell_type": "code",
   "execution_count": 17,
   "metadata": {
    "collapsed": false
   },
   "outputs": [],
   "source": [
    "def freq_table(dataset, index):\n",
    "    table = {}\n",
    "    total = 0\n",
    "    \n",
    "    for row in dataset:\n",
    "        total += 1\n",
    "        value = row[index]\n",
    "        if value in table:\n",
    "            table[value] += 1\n",
    "        else:\n",
    "            table[value] = 1\n",
    "    \n",
    "    table_percentages = {}\n",
    "    for key in table:\n",
    "        percentage = (table[key] / total) * 100\n",
    "        table_percentages[key] = round(percentage,2)\n",
    "    \n",
    "    return table_percentages\n",
    "\n",
    "def display_table(dataset, index):\n",
    "    table = freq_table(dataset, index)\n",
    "    table_display = []\n",
    "    for key in table:\n",
    "        key_val_as_tuple = (table[key], key)\n",
    "        table_display.append(key_val_as_tuple)\n",
    "        \n",
    "    table_sorted = sorted(table_display, reverse = True)\n",
    "    for entry in table_sorted:\n",
    "        print(entry[1], ':', entry[0], \"%\")\n",
    "    \n"
   ]
  },
  {
   "cell_type": "code",
   "execution_count": 18,
   "metadata": {
    "collapsed": false
   },
   "outputs": [
    {
     "name": "stdout",
     "output_type": "stream",
     "text": [
      "Games : 58.16 %\n",
      "Entertainment : 7.88 %\n",
      "Photo & Video : 4.97 %\n",
      "Education : 3.66 %\n",
      "Social Networking : 3.29 %\n",
      "Shopping : 2.61 %\n",
      "Utilities : 2.51 %\n",
      "Sports : 2.14 %\n",
      "Music : 2.05 %\n",
      "Health & Fitness : 2.02 %\n",
      "Productivity : 1.74 %\n",
      "Lifestyle : 1.58 %\n",
      "News : 1.33 %\n",
      "Travel : 1.24 %\n",
      "Finance : 1.12 %\n",
      "Weather : 0.87 %\n",
      "Food & Drink : 0.81 %\n",
      "Reference : 0.56 %\n",
      "Business : 0.53 %\n",
      "Book : 0.43 %\n",
      "Navigation : 0.19 %\n",
      "Medical : 0.19 %\n",
      "Catalogs : 0.12 %\n"
     ]
    }
   ],
   "source": [
    "iosGenres = display_table(ios, 11)"
   ]
  },
  {
   "cell_type": "code",
   "execution_count": 19,
   "metadata": {
    "collapsed": false
   },
   "outputs": [
    {
     "name": "stdout",
     "output_type": "stream",
     "text": [
      "FAMILY : 18.93 %\n",
      "GAME : 9.69 %\n",
      "TOOLS : 8.45 %\n",
      "BUSINESS : 4.59 %\n",
      "LIFESTYLE : 3.9 %\n",
      "PRODUCTIVITY : 3.89 %\n",
      "FINANCE : 3.7 %\n",
      "MEDICAL : 3.52 %\n",
      "SPORTS : 3.4 %\n",
      "PERSONALIZATION : 3.32 %\n",
      "COMMUNICATION : 3.24 %\n",
      "HEALTH_AND_FITNESS : 3.08 %\n",
      "PHOTOGRAPHY : 2.95 %\n",
      "NEWS_AND_MAGAZINES : 2.8 %\n",
      "SOCIAL : 2.66 %\n",
      "TRAVEL_AND_LOCAL : 2.34 %\n",
      "SHOPPING : 2.25 %\n",
      "BOOKS_AND_REFERENCE : 2.14 %\n",
      "DATING : 1.86 %\n",
      "VIDEO_PLAYERS : 1.79 %\n",
      "MAPS_AND_NAVIGATION : 1.4 %\n",
      "FOOD_AND_DRINK : 1.24 %\n",
      "EDUCATION : 1.17 %\n",
      "ENTERTAINMENT : 0.96 %\n",
      "LIBRARIES_AND_DEMO : 0.94 %\n",
      "AUTO_AND_VEHICLES : 0.93 %\n",
      "HOUSE_AND_HOME : 0.82 %\n",
      "WEATHER : 0.8 %\n",
      "EVENTS : 0.71 %\n",
      "PARENTING : 0.65 %\n",
      "ART_AND_DESIGN : 0.64 %\n",
      "COMICS : 0.62 %\n",
      "BEAUTY : 0.6 %\n"
     ]
    }
   ],
   "source": [
    "androGenres = display_table(andro, 1) #Category"
   ]
  },
  {
   "cell_type": "code",
   "execution_count": 20,
   "metadata": {
    "collapsed": false
   },
   "outputs": [
    {
     "data": {
      "text/plain": [
       "{0: 'id',\n",
       " 1: 'track_name',\n",
       " 2: 'size_bytes',\n",
       " 3: 'currency',\n",
       " 4: 'price',\n",
       " 5: 'rating_count_tot',\n",
       " 6: 'rating_count_ver',\n",
       " 7: 'user_rating',\n",
       " 8: 'user_rating_ver',\n",
       " 9: 'ver',\n",
       " 10: 'cont_rating',\n",
       " 11: 'prime_genre',\n",
       " 12: 'sup_devices.num',\n",
       " 13: 'ipadSc_urls.num',\n",
       " 14: 'lang.num',\n",
       " 15: 'vpp_lic'}"
      ]
     },
     "execution_count": 20,
     "metadata": {},
     "output_type": "execute_result"
    }
   ],
   "source": [
    "Acolumns"
   ]
  },
  {
   "cell_type": "code",
   "execution_count": 21,
   "metadata": {
    "collapsed": true
   },
   "outputs": [],
   "source": [
    "def installs_table(dataset, indexGenre, indexInstalls):\n",
    "    table = {}\n",
    "    total = 0\n",
    "    installs = 0\n",
    "    \n",
    "    for row in dataset:\n",
    "        value = row[indexGenre]\n",
    "        total += 1\n",
    "        if value in table:\n",
    "            installs += row[indexInstalls]\n",
    "        else:\n",
    "            installs = row[indexInstalls]\n",
    "    \n",
    "    install_AVG = {}\n",
    "    for key in table:\n",
    "        installsAVG = (installs / total)\n",
    "        install_AVG[key] = round(installsAVG,2)\n",
    "    \n",
    "    return install_AVG\n",
    "\n",
    "def display_installs(dataset, indexGenre, indexInstalls):\n",
    "    table = installs_table(dataset, indexGenre, indexInstalls)\n",
    "    table_display = []\n",
    "    for key in table:\n",
    "        key_val_as_tuple = (table[key], key)\n",
    "        table_display.append(key_val_as_tuple)\n",
    "        \n",
    "    table_sorted = sorted(table_display, reverse = True)\n",
    "    for entry in table_sorted:\n",
    "        print(entry[1], ':', entry[0])"
   ]
  },
  {
   "cell_type": "code",
   "execution_count": 31,
   "metadata": {
    "collapsed": false
   },
   "outputs": [
    {
     "data": {
      "text/plain": [
       "{0: 'App',\n",
       " 1: 'Category',\n",
       " 2: 'Rating',\n",
       " 3: 'Reviews',\n",
       " 4: 'Size',\n",
       " 5: 'Installs',\n",
       " 6: 'Type',\n",
       " 7: 'Price',\n",
       " 8: 'Content Rating',\n",
       " 9: 'Genres',\n",
       " 10: 'Last Updated',\n",
       " 11: 'Current Ver',\n",
       " 12: 'Android Ver'}"
      ]
     },
     "execution_count": 31,
     "metadata": {},
     "output_type": "execute_result"
    }
   ],
   "source": [
    "Gcolumns"
   ]
  },
  {
   "cell_type": "code",
   "execution_count": 23,
   "metadata": {
    "collapsed": false
   },
   "outputs": [
    {
     "name": "stdout",
     "output_type": "stream",
     "text": [
      "Shopping : 26919.69\n",
      "Sports : 23008.9\n",
      "Catalogs : 4004.0\n",
      "Health & Fitness : 23298.02\n",
      "Weather : 52279.89\n",
      "Book : 39758.5\n",
      "Social Networking : 71548.35\n",
      "Entertainment : 14029.83\n",
      "Finance : 31467.94\n",
      "Photo & Video : 28441.54\n",
      "Lifestyle : 16485.76\n",
      "Travel : 28243.8\n",
      "Business : 7491.12\n",
      "News : 21248.02\n",
      "Reference : 74942.11\n",
      "Medical : 612.0\n",
      "Music : 57326.53\n",
      "Education : 7003.98\n",
      "Utilities : 18684.46\n",
      "Food & Drink : 33333.92\n",
      "Navigation : 86090.33\n",
      "Productivity : 21028.41\n",
      "Games : 22788.67\n"
     ]
    }
   ],
   "source": [
    "genres_ios = freq_table(ios, -5)\n",
    "\n",
    "for genre in genres_ios:\n",
    "    total = 0\n",
    "    len_genre = 0\n",
    "    for app in ios:\n",
    "        genre_app = app[-5]\n",
    "        if genre_app == genre:            \n",
    "            n_ratings = float(app[5])\n",
    "            total += n_ratings\n",
    "            len_genre += 1\n",
    "    avg_n_ratings = total / len_genre\n",
    "    print(genre, ':', round(avg_n_ratings, 2))"
   ]
  },
  {
   "cell_type": "code",
   "execution_count": 36,
   "metadata": {
    "collapsed": false
   },
   "outputs": [
    {
     "name": "stdout",
     "output_type": "stream",
     "text": [
      "1,000,000+ : 15.74 %\n",
      "100,000+ : 11.55 %\n",
      "10,000,000+ : 10.52 %\n",
      "10,000+ : 10.2 %\n",
      "1,000+ : 8.4 %\n",
      "100+ : 6.92 %\n",
      "5,000,000+ : 6.84 %\n",
      "500,000+ : 5.57 %\n",
      "50,000+ : 4.77 %\n",
      "5,000+ : 4.51 %\n",
      "10+ : 3.54 %\n",
      "500+ : 3.25 %\n",
      "50,000,000+ : 2.29 %\n",
      "100,000,000+ : 2.12 %\n",
      "50+ : 1.92 %\n",
      "5+ : 0.79 %\n",
      "1+ : 0.51 %\n",
      "500,000,000+ : 0.27 %\n",
      "1,000,000,000+ : 0.23 %\n",
      "0+ : 0.05 %\n",
      "0 : 0.01 %\n"
     ]
    }
   ],
   "source": [
    "display_table(andro,5)"
   ]
  },
  {
   "cell_type": "code",
   "execution_count": 39,
   "metadata": {
    "collapsed": false
   },
   "outputs": [
    {
     "name": "stdout",
     "output_type": "stream",
     "text": [
      "WEATHER :  5074486.2\n",
      "HEALTH_AND_FITNESS :  4188821.99\n",
      "MAPS_AND_NAVIGATION :  4056941.77\n",
      "GAME :  15560965.6\n",
      "SOCIAL :  23253652.13\n",
      "PRODUCTIVITY :  16787331.34\n",
      "COMICS :  817657.27\n",
      "LIBRARIES_AND_DEMO :  638503.73\n",
      "SHOPPING :  7036877.31\n",
      "FAMILY :  3694276.33\n",
      "PHOTOGRAPHY :  17805627.64\n",
      "SPORTS :  3638640.14\n",
      "DATING :  854028.83\n",
      "EDUCATION :  1820673.08\n",
      "NEWS_AND_MAGAZINES :  9549178.47\n",
      "LIFESTYLE :  1437816.27\n",
      "FINANCE :  1387692.48\n",
      "HOUSE_AND_HOME :  1331540.56\n",
      "PARENTING :  542603.62\n",
      "AUTO_AND_VEHICLES :  647317.82\n",
      "FOOD_AND_DRINK :  1924897.74\n",
      "TRAVEL_AND_LOCAL :  13984077.71\n",
      "MEDICAL :  120616.49\n",
      "ART_AND_DESIGN :  1986335.09\n",
      "TOOLS :  10682301.03\n",
      "PERSONALIZATION :  5201482.61\n",
      "COMMUNICATION :  38456119.17\n",
      "VIDEO_PLAYERS :  24727872.45\n",
      "EVENTS :  253542.22\n",
      "BEAUTY :  513151.89\n",
      "BUSINESS :  1712290.15\n",
      "ENTERTAINMENT :  11640705.88\n",
      "BOOKS_AND_REFERENCE :  8767811.89\n"
     ]
    }
   ],
   "source": [
    "for category in freq_table(andro,1):\n",
    "    total = 0\n",
    "    len_category = 0\n",
    "    for a in andro:\n",
    "        category_app = a[1]\n",
    "        if category_app == category:\n",
    "            installs = a[5]\n",
    "            installs = installs.replace(\"+\", \"\")\n",
    "            installs = installs.replace(\",\", \"\")\n",
    "            total += float(installs)\n",
    "            len_category += 1\n",
    "    avg_installs = total / len_category\n",
    "    print(category, \": \", round(avg_installs,2))"
   ]
  },
  {
   "cell_type": "code",
   "execution_count": 42,
   "metadata": {
    "collapsed": false
   },
   "outputs": [
    {
     "name": "stdout",
     "output_type": "stream",
     "text": [
      "WhatsApp Messenger :  1,000,000,000+\n",
      "Messenger for SMS :  10,000,000+\n",
      "My Tele2 :  5,000,000+\n",
      "imo beta free calls and text :  100,000,000+\n",
      "Contacts :  50,000,000+\n",
      "Call Free – Free Call :  5,000,000+\n",
      "Web Browser & Explorer :  5,000,000+\n",
      "Browser 4G :  10,000,000+\n",
      "MegaFon Dashboard :  10,000,000+\n",
      "ZenUI Dialer & Contacts :  10,000,000+\n",
      "Cricket Visual Voicemail :  10,000,000+\n",
      "TracFone My Account :  1,000,000+\n",
      "Xperia Link™ :  10,000,000+\n",
      "TouchPal Keyboard - Fun Emoji & Android Keyboard :  10,000,000+\n",
      "Skype Lite - Free Video Call & Chat :  5,000,000+\n",
      "My magenta :  1,000,000+\n",
      "Android Messages :  100,000,000+\n",
      "Google Duo - High Quality Video Calls :  500,000,000+\n",
      "Seznam.cz :  1,000,000+\n",
      "Antillean Gold Telegram (original version) :  100,000+\n",
      "AT&T Visual Voicemail :  10,000,000+\n",
      "GMX Mail :  10,000,000+\n",
      "Omlet Chat :  10,000,000+\n",
      "My Vodacom SA :  5,000,000+\n",
      "Microsoft Edge :  5,000,000+\n",
      "Messenger – Text and Video Chat for Free :  1,000,000,000+\n",
      "imo free video calls and chat :  500,000,000+\n",
      "Calls & Text by Mo+ :  5,000,000+\n",
      "free video calls and chat :  50,000,000+\n",
      "Skype - free IM & video calls :  1,000,000,000+\n",
      "Who :  100,000,000+\n",
      "GO SMS Pro - Messenger, Free Themes, Emoji :  100,000,000+\n",
      "Messaging+ SMS, MMS Free :  1,000,000+\n",
      "chomp SMS :  10,000,000+\n",
      "Glide - Video Chat Messenger :  10,000,000+\n",
      "Text SMS :  10,000,000+\n",
      "Talkray - Free Calls & Texts :  10,000,000+\n",
      "LINE: Free Calls & Messages :  500,000,000+\n",
      "GroupMe :  10,000,000+\n",
      "mysms SMS Text Messaging Sync :  1,000,000+\n",
      "2ndLine - Second Phone Number :  1,000,000+\n",
      "Google Chrome: Fast & Secure :  1,000,000,000+\n",
      "Firefox Browser fast & private :  100,000,000+\n",
      "Ninesky Browser :  1,000,000+\n",
      "Dolphin Browser - Fast, Private & Adblock🐬 :  50,000,000+\n",
      "UC Browser - Fast Download Private & Secure :  500,000,000+\n",
      "Ghostery Privacy Browser :  1,000,000+\n",
      "InBrowser - Incognito Browsing :  1,000,000+\n",
      "Lightning Web Browser :  500,000+\n",
      "Web Browser :  500,000+\n",
      "Contacts+ :  10,000,000+\n",
      "ExDialer - Dialer & Contacts :  10,000,000+\n",
      "PHONE for Google Voice & GTalk :  1,000,000+\n",
      "Safest Call Blocker :  1,000,000+\n",
      "Full Screen Caller ID :  5,000,000+\n",
      "Hiya - Caller ID & Block :  10,000,000+\n",
      "Mr. Number-Block calls & spam :  10,000,000+\n",
      "Should I Answer? :  1,000,000+\n",
      "RocketDial Dialer & Contacts :  1,000,000+\n",
      "CIA - Caller ID & Call Blocker :  5,000,000+\n",
      "Calls Blacklist - Call Blocker :  10,000,000+\n",
      "Call Control - Call Blocker :  5,000,000+\n",
      "True Contact - Real Caller ID :  1,000,000+\n",
      "Video Caller Id :  1,000,000+\n",
      "Sync.ME – Caller ID & Block :  5,000,000+\n",
      "Burner - Free Phone Number :  1,000,000+\n",
      "Caller ID + :  1,000,000+\n",
      "Gmail :  1,000,000,000+\n",
      "K-9 Mail :  5,000,000+\n",
      "myMail – Email for Hotmail, Gmail and Outlook Mail :  10,000,000+\n",
      "Email TypeApp - Mail App :  1,000,000+\n",
      "All Email Providers :  1,000,000+\n",
      "Newton Mail - Email App for Gmail, Outlook, IMAP :  1,000,000+\n",
      "GO Notifier :  10,000,000+\n",
      "Mail.Ru - Email App :  50,000,000+\n",
      "Mail1Click - Secure Mail :  10,000+\n",
      "Daum Mail - Next Mail :  5,000,000+\n",
      "mail.com mail :  1,000,000+\n",
      "SolMail - All-in-One email app :  500,000+\n",
      "Hangouts :  1,000,000,000+\n",
      "Vonage Mobile® Call Video Text :  1,000,000+\n",
      "JusTalk - Free Video Calls and Fun Video Chat :  5,000,000+\n",
      "Azar :  50,000,000+\n",
      "LokLok: Draw on a Lock Screen :  500,000+\n",
      "Discord - Chat for Gamers :  10,000,000+\n",
      "Messenger Lite: Free Calls & Messages :  100,000,000+\n",
      "AntennaPict β :  1,000,000+\n",
      "Talkatone: Free Texts, Calls & Phone Number :  10,000,000+\n",
      "Kik :  100,000,000+\n",
      "K-@ Mail - Email App :  100,000+\n",
      "KakaoTalk: Free Calls & Text :  100,000,000+\n",
      "K-9 Material (unofficial) :  5,000+\n",
      "M star Dialer :  100,000+\n",
      "Free WiFi Connect :  10,000,000+\n",
      "m:go BiH :  10,000+\n",
      "N-Com Wizard :  50,000+\n",
      "Opera Mini - fast web browser :  100,000,000+\n",
      "Opera Browser: Fast and Secure :  100,000,000+\n",
      "Opera Mini browser beta :  10,000,000+\n",
      "Psiphon Pro - The Internet Freedom VPN :  10,000,000+\n",
      "ICQ — Video Calls & Chat Messenger :  10,000,000+\n",
      "Telegram :  100,000,000+\n",
      "AT&T Messages for Tablet :  1,000,000+\n",
      "T-Mobile DIGITS :  100,000+\n",
      "Truecaller: Caller ID, SMS spam blocking & Dialer :  100,000,000+\n",
      "Portable Wi-Fi hotspot :  10,000,000+\n",
      "AT&T Call Protect :  5,000,000+\n",
      "U - Webinars, Meetings & Messenger :  500,000+\n",
      "UC Browser Mini -Tiny Fast Private & Secure :  100,000,000+\n",
      "/u/app :  10,000+\n",
      "[verify-U] VideoIdent :  10,000+\n",
      "Viber Messenger :  500,000,000+\n",
      "WeChat :  100,000,000+\n",
      "WhatsApp Business :  10,000,000+\n",
      "WhatsCall Free Global Phone Call App & Cheap Calls :  10,000,000+\n",
      "X Browser :  50,000+\n",
      "Yahoo Mail – Stay Organized :  100,000,000+\n",
      "Free Adblocker Browser - Adblock & Popup Blocker :  10,000,000+\n",
      "Adblock Browser for Android :  10,000,000+\n",
      "CM Browser - Ad Blocker , Fast Download , Privacy :  50,000,000+\n",
      "Adblock Plus for Samsung Internet - Browse safe. :  1,000,000+\n",
      "Ad Blocker Turbo - Adblocker Browser :  10,000+\n",
      "Brave Browser: Fast AdBlocker :  5,000,000+\n",
      "AG Contacts, Lite edition :  5,000+\n",
      "Oklahoma Ag Co-op Council :  10+\n",
      "Bee'ah Employee App :  100+\n",
      "tournaments and more.aj.2 :  100+\n",
      "Aj.Petra :  100+\n",
      "AK Phone :  5,000+\n",
      "PlacarTv Futebol Ao Vivo :  100,000+\n",
      "WiFi Access Point (hotspot) :  100,000+\n",
      "Access Point Names :  10,000+\n",
      "Puffin Web Browser :  10,000,000+\n",
      "ClanHQ :  10,000+\n",
      "Ear Agent: Super Hearing :  5,000,000+\n",
      "Google Voice :  10,000,000+\n",
      "Google Allo :  10,000,000+\n",
      "AU Call Blocker - Block Unwanted Calls Texts 2018 :  1,000+\n",
      "Baby Monitor AV :  100,000+\n",
      "AV Phone :  1,000+\n",
      "AW - free video calls and chat :  1,000,000+\n",
      "Katalogen.ax :  100+\n",
      "AZ Browser. Private & Download :  100,000+\n",
      "BA SALES :  1+\n",
      "BD Data Plan (3G & 4G) :  500,000+\n",
      "BD Internet Packages (Updated) :  50,000+\n",
      "BD Dialer :  10,000+\n",
      "BD Live Call :  5,000+\n",
      "Best Browser BD social networking :  10+\n",
      "Traffic signs BD :  500+\n",
      "BF Browser by Betfilter - Stop Gambling Today! :  10,000+\n",
      "My BF App :  50,000+\n",
      "BH Mail :  1,000+\n",
      "Zalo – Video Call :  50,000,000+\n",
      "BJ - Confidential :  10+\n",
      "BK Chat :  1,000+\n",
      "Of the wall Arapaho bk :  5+\n",
      "AC-BL :  50+\n",
      "BBM - Free Calls & Messages :  100,000,000+\n",
      "DMR BrandMeister Tool :  10,000+\n",
      "BBMoji - Your personalized BBM Stickers :  1,000,000+\n",
      "BN MALLORCA Radio :  1,000+\n",
      "BQ Partners :  1,000+\n",
      "BS-Mobile :  50+\n",
      "ATC Unico BS :  500+\n",
      "BT One Voice mobile access :  5,000+\n",
      "BT Messenger :  50,000+\n",
      "BT One Phone Mobile App :  10,000+\n",
      "SW-100.tch by Callstel :  1,000,000+\n",
      "BT MeetMe with Dolby Voice :  100,000+\n",
      "Bluetooth Auto Connect :  5,000,000+\n",
      "AudioBT: BT audio GPS/SMS/Text :  50,000+\n",
      "BV :  100+\n",
      "Feel Performer :  10,000+\n",
      "Tiny Call Confirm :  1,000,000+\n",
      "CB Radio Chat - for friends! :  1,000,000+\n",
      "CB On Mobile :  100,000+\n",
      "Virtual Walkie Talkie :  1,000,000+\n",
      "Channel 19 :  100,000+\n",
      "Cb browser :  50+\n",
      "CF Chat: Connecting Friends :  100+\n",
      "retteMi.ch :  5,000+\n",
      "Chrome Dev :  5,000,000+\n",
      "CJ Browser - Fast & Private :  100+\n",
      "CJ DVD Rentals :  100+\n",
      "CK Call NEW :  10+\n",
      "CM Transfer - Share any files with friends nearby :  5,000,000+\n",
      "mail.co.uk Mail :  5,000+\n",
      "ClanPlay: Community and Tools for Gamers :  1,000,000+\n",
      "CQ-Mobile :  1,000+\n",
      "CQ-Alert :  500+\n",
      "QRZ Assistant :  100,000+\n",
      "Pocket Prefix Plus :  10,000+\n",
      "Ham Radio Prefixes :  10,000+\n",
      "CS Customizer :  1,000+\n",
      "CS Browser | #1 & BEST BROWSER :  1,000+\n",
      "CS Browser Beta :  5,000+\n",
      "My Vodafone (GR) :  1,000,000+\n",
      "IZ2UUF Morse Koch CW :  50,000+\n",
      "C W Browser :  100+\n",
      "CW Bluetooth SPP :  100+\n",
      "CW BLE Peripheral Simulator :  500+\n",
      "Morse Code Reader :  100,000+\n",
      "Learn Morse Code - G0HYN Learn Morse :  5,000+\n",
      "Ring :  10,000+\n",
      "Hyundai CX Conference :  50+\n",
      "Cy Messenger :  100+\n",
      "Amadeus GR & CY :  100+\n",
      "Hlášenírozhlasu.cz :  10+\n",
      "SMS Sender - sluzba.cz :  1,000+\n",
      "WEB.DE Mail :  10,000,000+\n",
      "Your Freedom VPN Client :  5,000,000+\n",
      "CallApp: Caller ID, Blocker & Phone Call Recorder :  10,000,000+\n",
      "Rádio Sol Nascente DF :  500+\n",
      "DG Card :  100+\n",
      "Whoscall - Caller ID & Block :  10,000,000+\n",
      "DK Browser :  10+\n",
      "cluster.dk :  1,000+\n",
      "DK TEL Dialer :  50+\n",
      "DM for WhatsApp :  5,000+\n",
      "DM Talk New :  5,000+\n",
      "DM - The Offical Messaging App :  10+\n",
      "DM Tracker :  1,000+\n",
      "Call Blocker & Blacklist :  1,000+\n",
      "ReadyOp DT :  1,000+\n",
      "DU Browser—Browse fast & fun :  10,000,000+\n",
      "Caller ID & Call Block - DU Caller :  5,000,000+\n",
      "BlueDV AMBE :  1,000+\n",
      "DW Contacts & Phone & Dialer :  1,000,000+\n",
      "Deaf World DW :  10,000+\n",
      "Ham DX Cluster & Spots Finder :  5,000+\n",
      "Mircules DX Cluster Lite :  5,000+\n",
      "3G DZ Configuration :  50,000+\n",
      "chat dz :  100+\n",
      "love sms good morning :  5,000+\n",
      "Goodbox - Mega App :  100,000+\n",
      "Call Blocker - Blacklist, SMS Blocker :  1,000,000+\n",
      "[EF]ShoutBox :  100+\n",
      "Eg Call :  10,000+\n",
      "ei :  10+\n",
      "EJ messenger :  10+\n",
      "Ek IRA :  10+\n",
      "Orfox: Tor Browser for Android :  10,000,000+\n",
      "EO Mumbai :  10+\n",
      "EP RSS Reader :  100+\n",
      "Voxer Walkie Talkie Messenger :  10,000,000+\n",
      "ES-1 :  500+\n",
      "Hangouts Dialer - Call Phones :  10,000,000+\n",
      "EU Council :  1,000+\n",
      "Council Voting Calculator :  5,000+\n",
      "Have your say on Europe :  500+\n",
      "Programi podrške EU :  100+\n",
      "Inbox.eu :  10,000+\n",
      "Web Browser for Android :  1,000,000+\n",
      "Everbridge :  100,000+\n",
      "Best Auto Call Recorder Free :  500+\n",
      "EZ Wifi Notification :  10,000+\n",
      "Test Server SMS FA :  5+\n",
      "Lite for Facebook Messenger :  1,000,000+\n",
      "FC Browser - Focus Privacy Browser :  1,000+\n",
      "EHiN-FH conferenceapp :  100+\n",
      "Carpooling FH Hagenberg :  100+\n",
      "Wi-Fi Auto-connect :  1,000,000+\n",
      "Talkie - Wi-Fi Calling, Chats, File Sharing :  500,000+\n",
      "WeFi - Free Fast WiFi Connect & Find Wi-Fi Map :  1,000,000+\n",
      "Sat-Fi :  5,000+\n",
      "Portable Wi-Fi hotspot Free :  100,000+\n",
      "TownWiFi | Wi-Fi Everywhere :  500,000+\n",
      "Jazz Wi-Fi :  10,000+\n",
      "Sat-Fi Voice :  1,000+\n",
      "Free Wi-fi HotspoT :  50,000+\n",
      "FN Web Radio :  10+\n",
      "FNH Payment Info :  10+\n",
      "MARKET FO :  100+\n",
      "FO OP St-Nazaire :  100+\n",
      "FO SODEXO :  100+\n",
      "FO RCBT :  100+\n",
      "FO Interim :  100+\n",
      "FO PSA Sept-Fons :  100+\n",
      "FO AIRBUS TLSE :  1,000+\n",
      "FO STELIA Méaulte :  100+\n",
      "FO AIRBUS Nantes :  100+\n",
      "Firefox Focus: The privacy browser :  1,000,000+\n",
      "FP Connect :  100+\n",
      "FreedomPop Messaging Phone/SIM :  500,000+\n",
      "FP Live :  10+\n",
      "HipChat - beta version :  50,000+\n"
     ]
    }
   ],
   "source": [
    "for app in andro:\n",
    "    if app[1] == \"COMMUNICATION\":\n",
    "        print(app[0], \": \", app[5])"
   ]
  },
  {
   "cell_type": "code",
   "execution_count": null,
   "metadata": {
    "collapsed": true
   },
   "outputs": [],
   "source": []
  }
 ],
 "metadata": {
  "kernelspec": {
   "display_name": "Python 3",
   "language": "python",
   "name": "python3"
  },
  "language_info": {
   "codemirror_mode": {
    "name": "ipython",
    "version": 3
   },
   "file_extension": ".py",
   "mimetype": "text/x-python",
   "name": "python",
   "nbconvert_exporter": "python",
   "pygments_lexer": "ipython3",
   "version": "3.4.3"
  }
 },
 "nbformat": 4,
 "nbformat_minor": 2
}
